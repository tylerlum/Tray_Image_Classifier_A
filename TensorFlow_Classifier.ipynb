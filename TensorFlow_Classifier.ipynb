{
  "nbformat": 4,
  "nbformat_minor": 0,
  "metadata": {
    "colab": {
      "name": "TensorFlow Classifier.ipynb",
      "version": "0.3.2",
      "provenance": [],
      "collapsed_sections": [],
      "include_colab_link": true
    },
    "kernelspec": {
      "name": "python3",
      "display_name": "Python 3"
    },
    "accelerator": "GPU"
  },
  "cells": [
    {
      "cell_type": "markdown",
      "metadata": {
        "id": "view-in-github",
        "colab_type": "text"
      },
      "source": [
        "<a href=\"https://colab.research.google.com/github/tylerlum/Tray_Image_Classifier_A/blob/master/TensorFlow_Classifier.ipynb\" target=\"_parent\"><img src=\"https://colab.research.google.com/assets/colab-badge.svg\" alt=\"Open In Colab\"/></a>"
      ]
    },
    {
      "metadata": {
        "id": "74oZoU_tyyNR",
        "colab_type": "code",
        "outputId": "faf3d8ae-2aaa-4143-d053-6372d5318b01",
        "colab": {
          "base_uri": "https://localhost:8080/",
          "height": 34
        }
      },
      "cell_type": "code",
      "source": [
        "!pip install googledrivedownloader"
      ],
      "execution_count": 3,
      "outputs": [
        {
          "output_type": "stream",
          "text": [
            "Requirement already satisfied: googledrivedownloader in /usr/local/lib/python3.6/dist-packages (0.3)\n"
          ],
          "name": "stdout"
        }
      ]
    },
    {
      "metadata": {
        "id": "vQwX1W7j1Ipy",
        "colab_type": "code",
        "outputId": "b69de872-eaf9-45ba-e296-9bce277bbbee",
        "colab": {
          "base_uri": "https://localhost:8080/",
          "height": 816
        }
      },
      "cell_type": "code",
      "source": [
        "# Download .7z files of images\n",
        "from google_drive_downloader import GoogleDriveDownloader as gdd\n",
        "\n",
        "gdd.download_file_from_google_drive(file_id='1smbsz8AJ-VGhKbtr7NTvAVzTI3auI_C4',\n",
        "                                    dest_path='./tray-data/HiRes.7z')\n",
        "gdd.download_file_from_google_drive(file_id='1wZ-AHv4yx_lXGeaqKzbTNuap6mpESyEq',\n",
        "                                    dest_path='./tray-data/LoRes.7z')\n",
        "\n",
        "# Extract.7z file\n",
        "%cd /content/tray-data\n",
        "!7z x /content/tray-data/HiRes.7z \n",
        "!7z x /content/tray-data/LoRes.7z "
      ],
      "execution_count": 9,
      "outputs": [
        {
          "output_type": "stream",
          "text": [
            "/content/tray-data\n",
            "\n",
            "7-Zip [64] 16.02 : Copyright (c) 1999-2016 Igor Pavlov : 2016-05-21\n",
            "p7zip Version 16.02 (locale=en_US.UTF-8,Utf16=on,HugeFiles=on,64 bits,2 CPUs Intel(R) Xeon(R) CPU @ 2.30GHz (306F0),ASM,AES-NI)\n",
            "\n",
            "Scanning the drive for archives:\n",
            "  0M Scan /content/tray-data/\b\b\b\b\b\b\b\b\b\b\b\b\b\b\b\b\b\b\b\b\b\b\b\b\b\b\b\b\b                             \b\b\b\b\b\b\b\b\b\b\b\b\b\b\b\b\b\b\b\b\b\b\b\b\b\b\b\b\b1 file, 987230795 bytes (942 MiB)\n",
            "\n",
            "Extracting archive: /content/tray-data/HiRes.7z\n",
            "--\n",
            "Path = /content/tray-data/HiRes.7z\n",
            "Type = 7z\n",
            "Physical Size = 987230795\n",
            "Headers Size = 38637\n",
            "Method = LZMA2:26\n",
            "Solid = +\n",
            "Blocks = 1\n",
            "\n",
            "  0%\b\b\b\b    \b\b\b\b  4% 245 - data_HiRes/multi/L05_L06_L10/L05_L06_L10_014.png\b\b\b\b\b\b\b\b\b\b\b\b\b\b\b\b\b\b\b\b\b\b\b\b\b\b\b\b\b\b\b\b\b\b\b\b\b\b\b\b\b\b\b\b\b\b\b\b\b\b\b\b\b\b\b\b\b\b\b                                                           \b\b\b\b\b\b\b\b\b\b\b\b\b\b\b\b\b\b\b\b\b\b\b\b\b\b\b\b\b\b\b\b\b\b\b\b\b\b\b\b\b\b\b\b\b\b\b\b\b\b\b\b\b\b\b\b\b\b\b  7% 418 - data_HiRes/multi/L05_L06_L10/L05_L06_L10_187.png\b\b\b\b\b\b\b\b\b\b\b\b\b\b\b\b\b\b\b\b\b\b\b\b\b\b\b\b\b\b\b\b\b\b\b\b\b\b\b\b\b\b\b\b\b\b\b\b\b\b\b\b\b\b\b\b\b\b\b                                                           \b\b\b\b\b\b\b\b\b\b\b\b\b\b\b\b\b\b\b\b\b\b\b\b\b\b\b\b\b\b\b\b\b\b\b\b\b\b\b\b\b\b\b\b\b\b\b\b\b\b\b\b\b\b\b\b\b\b\b 11% 599 - data_HiRes/multi/L06_L10/L06_L10_168.png\b\b\b\b\b\b\b\b\b\b\b\b\b\b\b\b\b\b\b\b\b\b\b\b\b\b\b\b\b\b\b\b\b\b\b\b\b\b\b\b\b\b\b\b\b\b\b\b\b\b\b                                                   \b\b\b\b\b\b\b\b\b\b\b\b\b\b\b\b\b\b\b\b\b\b\b\b\b\b\b\b\b\b\b\b\b\b\b\b\b\b\b\b\b\b\b\b\b\b\b\b\b\b\b 13% 711 - data_HiRes/multi/L08_L09_L11/L08_L09_L11_080.png\b\b\b\b\b\b\b\b\b\b\b\b\b\b\b\b\b\b\b\b\b\b\b\b\b\b\b\b\b\b\b\b\b\b\b\b\b\b\b\b\b\b\b\b\b\b\b\b\b\b\b\b\b\b\b\b\b\b\b                                                           \b\b\b\b\b\b\b\b\b\b\b\b\b\b\b\b\b\b\b\b\b\b\b\b\b\b\b\b\b\b\b\b\b\b\b\b\b\b\b\b\b\b\b\b\b\b\b\b\b\b\b\b\b\b\b\b\b\b\b 15% 790 - data_HiRes/multi/L08_L09_L11/L08_L09_L11_159.png\b\b\b\b\b\b\b\b\b\b\b\b\b\b\b\b\b\b\b\b\b\b\b\b\b\b\b\b\b\b\b\b\b\b\b\b\b\b\b\b\b\b\b\b\b\b\b\b\b\b\b\b\b\b\b\b\b\b\b                                                           \b\b\b\b\b\b\b\b\b\b\b\b\b\b\b\b\b\b\b\b\b\b\b\b\b\b\b\b\b\b\b\b\b\b\b\b\b\b\b\b\b\b\b\b\b\b\b\b\b\b\b\b\b\b\b\b\b\b\b 18% 951 - data_HiRes/multi/L09_L11/L09_L11_120.png\b\b\b\b\b\b\b\b\b\b\b\b\b\b\b\b\b\b\b\b\b\b\b\b\b\b\b\b\b\b\b\b\b\b\b\b\b\b\b\b\b\b\b\b\b\b\b\b\b\b\b                                                   \b\b\b\b\b\b\b\b\b\b\b\b\b\b\b\b\b\b\b\b\b\b\b\b\b\b\b\b\b\b\b\b\b\b\b\b\b\b\b\b\b\b\b\b\b\b\b\b\b\b\b 22% 1102 - data_HiRes/multi/S1_S5/S1_S5_072.png\b\b\b\b\b\b\b\b\b\b\b\b\b\b\b\b\b\b\b\b\b\b\b\b\b\b\b\b\b\b\b\b\b\b\b\b\b\b\b\b\b\b\b\b\b\b\b\b                                                \b\b\b\b\b\b\b\b\b\b\b\b\b\b\b\b\b\b\b\b\b\b\b\b\b\b\b\b\b\b\b\b\b\b\b\b\b\b\b\b\b\b\b\b\b\b\b\b 25% 1290 - data_HiRes/single/L02/L2_062.png\b\b\b\b\b\b\b\b\b\b\b\b\b\b\b\b\b\b\b\b\b\b\b\b\b\b\b\b\b\b\b\b\b\b\b\b\b\b\b\b\b\b\b\b                                            \b\b\b\b\b\b\b\b\b\b\b\b\b\b\b\b\b\b\b\b\b\b\b\b\b\b\b\b\b\b\b\b\b\b\b\b\b\b\b\b\b\b\b\b 28% 1454 - data_HiRes/single/L03/L3_126.png\b\b\b\b\b\b\b\b\b\b\b\b\b\b\b\b\b\b\b\b\b\b\b\b\b\b\b\b\b\b\b\b\b\b\b\b\b\b\b\b\b\b\b\b                                            \b\b\b\b\b\b\b\b\b\b\b\b\b\b\b\b\b\b\b\b\b\b\b\b\b\b\b\b\b\b\b\b\b\b\b\b\b\b\b\b\b\b\b\b 28% 1455 - data_HiRes/single/L03/L3_127.png\b\b\b\b\b\b\b\b\b\b\b\b\b\b\b\b\b\b\b\b\b\b\b\b\b\b\b\b\b\b\b\b\b\b\b\b\b\b\b\b\b\b\b\b                                            \b\b\b\b\b\b\b\b\b\b\b\b\b\b\b\b\b\b\b\b\b\b\b\b\b\b\b\b\b\b\b\b\b\b\b\b\b\b\b\b\b\b\b\b 33% 1660 - data_HiRes/single/L04/L4_135.png\b\b\b\b\b\b\b\b\b\b\b\b\b\b\b\b\b\b\b\b\b\b\b\b\b\b\b\b\b\b\b\b\b\b\b\b\b\b\b\b\b\b\b\b                                            \b\b\b\b\b\b\b\b\b\b\b\b\b\b\b\b\b\b\b\b\b\b\b\b\b\b\b\b\b\b\b\b\b\b\b\b\b\b\b\b\b\b\b\b 36% 1813 - data_HiRes/single/L05/L5_092.png\b\b\b\b\b\b\b\b\b\b\b\b\b\b\b\b\b\b\b\b\b\b\b\b\b\b\b\b\b\b\b\b\b\b\b\b\b\b\b\b\b\b\b\b                                            \b\b\b\b\b\b\b\b\b\b\b\b\b\b\b\b\b\b\b\b\b\b\b\b\b\b\b\b\b\b\b\b\b\b\b\b\b\b\b\b\b\b\b\b 39% 1948 - data_HiRes/single/L06/L6_027.png\b\b\b\b\b\b\b\b\b\b\b\b\b\b\b\b\b\b\b\b\b\b\b\b\b\b\b\b\b\b\b\b\b\b\b\b\b\b\b\b\b\b\b\b                                            \b\b\b\b\b\b\b\b\b\b\b\b\b\b\b\b\b\b\b\b\b\b\b\b\b\b\b\b\b\b\b\b\b\b\b\b\b\b\b\b\b\b\b\b 43% 2102 - data_HiRes/single/L06/L6_181.png\b\b\b\b\b\b\b\b\b\b\b\b\b\b\b\b\b\b\b\b\b\b\b\b\b\b\b\b\b\b\b\b\b\b\b\b\b\b\b\b\b\b\b\b                                            \b\b\b\b\b\b\b\b\b\b\b\b\b\b\b\b\b\b\b\b\b\b\b\b\b\b\b\b\b\b\b\b\b\b\b\b\b\b\b\b\b\b\b\b 43% 2121 - data_HiRes/single/L07/L7_000.png\b\b\b\b\b\b\b\b\b\b\b\b\b\b\b\b\b\b\b\b\b\b\b\b\b\b\b\b\b\b\b\b\b\b\b\b\b\b\b\b\b\b\b\b                                            \b\b\b\b\b\b\b\b\b\b\b\b\b\b\b\b\b\b\b\b\b\b\b\b\b\b\b\b\b\b\b\b\b\b\b\b\b\b\b\b\b\b\b\b 47% 2276 - data_HiRes/single/L07/L7_155.png\b\b\b\b\b\b\b\b\b\b\b\b\b\b\b\b\b\b\b\b\b\b\b\b\b\b\b\b\b\b\b\b\b\b\b\b\b\b\b\b\b\b\b\b                                            \b\b\b\b\b\b\b\b\b\b\b\b\b\b\b\b\b\b\b\b\b\b\b\b\b\b\b\b\b\b\b\b\b\b\b\b\b\b\b\b\b\b\b\b 50% 2426 - data_HiRes/single/L08/L8_105.png\b\b\b\b\b\b\b\b\b\b\b\b\b\b\b\b\b\b\b\b\b\b\b\b\b\b\b\b\b\b\b\b\b\b\b\b\b\b\b\b\b\b\b\b                                            \b\b\b\b\b\b\b\b\b\b\b\b\b\b\b\b\b\b\b\b\b\b\b\b\b\b\b\b\b\b\b\b\b\b\b\b\b\b\b\b\b\b\b\b 53% 2578 - data_HiRes/single/L09/L9_057.png\b\b\b\b\b\b\b\b\b\b\b\b\b\b\b\b\b\b\b\b\b\b\b\b\b\b\b\b\b\b\b\b\b\b\b\b\b\b\b\b\b\b\b\b                                            \b\b\b\b\b\b\b\b\b\b\b\b\b\b\b\b\b\b\b\b\b\b\b\b\b\b\b\b\b\b\b\b\b\b\b\b\b\b\b\b\b\b\b\b 56% 2704 - data_HiRes/single/L09/L9_183.png\b\b\b\b\b\b\b\b\b\b\b\b\b\b\b\b\b\b\b\b\b\b\b\b\b\b\b\b\b\b\b\b\b\b\b\b\b\b\b\b\b\b\b\b                                            \b\b\b\b\b\b\b\b\b\b\b\b\b\b\b\b\b\b\b\b\b\b\b\b\b\b\b\b\b\b\b\b\b\b\b\b\b\b\b\b\b\b\b\b 57% 2761 - data_HiRes/single/L10/L10_040.png\b\b\b\b\b\b\b\b\b\b\b\b\b\b\b\b\b\b\b\b\b\b\b\b\b\b\b\b\b\b\b\b\b\b\b\b\b\b\b\b\b\b\b\b\b                                             \b\b\b\b\b\b\b\b\b\b\b\b\b\b\b\b\b\b\b\b\b\b\b\b\b\b\b\b\b\b\b\b\b\b\b\b\b\b\b\b\b\b\b\b\b 61% 2919 - data_HiRes/single/L10/L10_198.png\b\b\b\b\b\b\b\b\b\b\b\b\b\b\b\b\b\b\b\b\b\b\b\b\b\b\b\b\b\b\b\b\b\b\b\b\b\b\b\b\b\b\b\b\b                                             \b\b\b\b\b\b\b\b\b\b\b\b\b\b\b\b\b\b\b\b\b\b\b\b\b\b\b\b\b\b\b\b\b\b\b\b\b\b\b\b\b\b\b\b\b 64% 3096 - data_HiRes/single/L11/L11_175.png\b\b\b\b\b\b\b\b\b\b\b\b\b\b\b\b\b\b\b\b\b\b\b\b\b\b\b\b\b\b\b\b\b\b\b\b\b\b\b\b\b\b\b\b\b                                             \b\b\b\b\b\b\b\b\b\b\b\b\b\b\b\b\b\b\b\b\b\b\b\b\b\b\b\b\b\b\b\b\b\b\b\b\b\b\b\b\b\b\b\b\b 67% 3259 - data_HiRes/single/L12/L12_138.png\b\b\b\b\b\b\b\b\b\b\b\b\b\b\b\b\b\b\b\b\b\b\b\b\b\b\b\b\b\b\b\b\b\b\b\b\b\b\b\b\b\b\b\b\b                                             \b\b\b\b\b\b\b\b\b\b\b\b\b\b\b\b\b\b\b\b\b\b\b\b\b\b\b\b\b\b\b\b\b\b\b\b\b\b\b\b\b\b\b\b\b 71% 3448 - data_HiRes/single/L13/L13_127.png\b\b\b\b\b\b\b\b\b\b\b\b\b\b\b\b\b\b\b\b\b\b\b\b\b\b\b\b\b\b\b\b\b\b\b\b\b\b\b\b\b\b\b\b\b                                             \b\b\b\b\b\b\b\b\b\b\b\b\b\b\b\b\b\b\b\b\b\b\b\b\b\b\b\b\b\b\b\b\b\b\b\b\b\b\b\b\b\b\b\b\b 74% 3640 - data_HiRes/single/L14/L14_128.png\b\b\b\b\b\b\b\b\b\b\b\b\b\b\b\b\b\b\b\b\b\b\b\b\b\b\b\b\b\b\b\b\b\b\b\b\b\b\b\b\b\b\b\b\b                                             \b\b\b\b\b\b\b\b\b\b\b\b\b\b\b\b\b\b\b\b\b\b\b\b\b\b\b\b\b\b\b\b\b\b\b\b\b\b\b\b\b\b\b\b\b 77% 3829 - data_HiRes/single/L15/L15_122.png\b\b\b\b\b\b\b\b\b\b\b\b\b\b\b\b\b\b\b\b\b\b\b\b\b\b\b\b\b\b\b\b\b\b\b\b\b\b\b\b\b\b\b\b\b                                             \b\b\b\b\b\b\b\b\b\b\b\b\b\b\b\b\b\b\b\b\b\b\b\b\b\b\b\b\b\b\b\b\b\b\b\b\b\b\b\b\b\b\b\b\b 80% 3998 - data_HiRes/single/L16/L16_100.png\b\b\b\b\b\b\b\b\b\b\b\b\b\b\b\b\b\b\b\b\b\b\b\b\b\b\b\b\b\b\b\b\b\b\b\b\b\b\b\b\b\b\b\b\b                                             \b\b\b\b\b\b\b\b\b\b\b\b\b\b\b\b\b\b\b\b\b\b\b\b\b\b\b\b\b\b\b\b\b\b\b\b\b\b\b\b\b\b\b\b\b 84% 4200 - data_HiRes/single/L17/L17_102.png\b\b\b\b\b\b\b\b\b\b\b\b\b\b\b\b\b\b\b\b\b\b\b\b\b\b\b\b\b\b\b\b\b\b\b\b\b\b\b\b\b\b\b\b\b                                             \b\b\b\b\b\b\b\b\b\b\b\b\b\b\b\b\b\b\b\b\b\b\b\b\b\b\b\b\b\b\b\b\b\b\b\b\b\b\b\b\b\b\b\b\b 87% 4398 - data_HiRes/single/L18/L18_103.png\b\b\b\b\b\b\b\b\b\b\b\b\b\b\b\b\b\b\b\b\b\b\b\b\b\b\b\b\b\b\b\b\b\b\b\b\b\b\b\b\b\b\b\b\b                                             \b\b\b\b\b\b\b\b\b\b\b\b\b\b\b\b\b\b\b\b\b\b\b\b\b\b\b\b\b\b\b\b\b\b\b\b\b\b\b\b\b\b\b\b\b 89% 4512 - data_HiRes/single/S1/S1_031.png\b\b\b\b\b\b\b\b\b\b\b\b\b\b\b\b\b\b\b\b\b\b\b\b\b\b\b\b\b\b\b\b\b\b\b\b\b\b\b\b\b\b\b                                           \b\b\b\b\b\b\b\b\b\b\b\b\b\b\b\b\b\b\b\b\b\b\b\b\b\b\b\b\b\b\b\b\b\b\b\b\b\b\b\b\b\b\b 92% 4633 - data_HiRes/single/S2/S2_053.png\b\b\b\b\b\b\b\b\b\b\b\b\b\b\b\b\b\b\b\b\b\b\b\b\b\b\b\b\b\b\b\b\b\b\b\b\b\b\b\b\b\b\b                                           \b\b\b\b\b\b\b\b\b\b\b\b\b\b\b\b\b\b\b\b\b\b\b\b\b\b\b\b\b\b\b\b\b\b\b\b\b\b\b\b\b\b\b 92% 4652 - data_HiRes/single/S2/S2_072.png\b\b\b\b\b\b\b\b\b\b\b\b\b\b\b\b\b\b\b\b\b\b\b\b\b\b\b\b\b\b\b\b\b\b\b\b\b\b\b\b\b\b\b                                           \b\b\b\b\b\b\b\b\b\b\b\b\b\b\b\b\b\b\b\b\b\b\b\b\b\b\b\b\b\b\b\b\b\b\b\b\b\b\b\b\b\b\b 96% 4805 - data_HiRes/single/S4/S4_027.png\b\b\b\b\b\b\b\b\b\b\b\b\b\b\b\b\b\b\b\b\b\b\b\b\b\b\b\b\b\b\b\b\b\b\b\b\b\b\b\b\b\b\b                                           \b\b\b\b\b\b\b\b\b\b\b\b\b\b\b\b\b\b\b\b\b\b\b\b\b\b\b\b\b\b\b\b\b\b\b\b\b\b\b\b\b\b\b 99% 4951 - data_HiRes/single/S5/S5_074.png\b\b\b\b\b\b\b\b\b\b\b\b\b\b\b\b\b\b\b\b\b\b\b\b\b\b\b\b\b\b\b\b\b\b\b\b\b\b\b\b\b\b\b                                           \b\b\b\b\b\b\b\b\b\b\b\b\b\b\b\b\b\b\b\b\b\b\b\b\b\b\b\b\b\b\b\b\b\b\b\b\b\b\b\b\b\b\bEverything is Ok\n",
            "\n",
            "Folders: 33\n",
            "Files: 4944\n",
            "Size:       987140053\n",
            "Compressed: 987230795\n",
            "\n",
            "7-Zip [64] 16.02 : Copyright (c) 1999-2016 Igor Pavlov : 2016-05-21\n",
            "p7zip Version 16.02 (locale=en_US.UTF-8,Utf16=on,HugeFiles=on,64 bits,2 CPUs Intel(R) Xeon(R) CPU @ 2.30GHz (306F0),ASM,AES-NI)\n",
            "\n",
            "Scanning the drive for archives:\n",
            "  0M Scan /content/tray-data/\b\b\b\b\b\b\b\b\b\b\b\b\b\b\b\b\b\b\b\b\b\b\b\b\b\b\b\b\b                             \b\b\b\b\b\b\b\b\b\b\b\b\b\b\b\b\b\b\b\b\b\b\b\b\b\b\b\b\b1 file, 50354323 bytes (49 MiB)\n",
            "\n",
            "Extracting archive: /content/tray-data/LoRes.7z\n",
            "--\n",
            "Path = /content/tray-data/LoRes.7z\n",
            "Type = 7z\n",
            "Physical Size = 50354323\n",
            "Headers Size = 35140\n",
            "Method = LZMA2:48m\n",
            "Solid = +\n",
            "Blocks = 1\n",
            "\n",
            "  0%\b\b\b\b    \b\b\b\b 33% 1460 - data_LoRes/single/L03/L3_132.png\b\b\b\b\b\b\b\b\b\b\b\b\b\b\b\b\b\b\b\b\b\b\b\b\b\b\b\b\b\b\b\b\b\b\b\b\b\b\b\b\b\b\b\b                                            \b\b\b\b\b\b\b\b\b\b\b\b\b\b\b\b\b\b\b\b\b\b\b\b\b\b\b\b\b\b\b\b\b\b\b\b\b\b\b\b\b\b\b\b 62% 2852 - data_LoRes/single/L10/L10_131.png\b\b\b\b\b\b\b\b\b\b\b\b\b\b\b\b\b\b\b\b\b\b\b\b\b\b\b\b\b\b\b\b\b\b\b\b\b\b\b\b\b\b\b\b\b                                             \b\b\b\b\b\b\b\b\b\b\b\b\b\b\b\b\b\b\b\b\b\b\b\b\b\b\b\b\b\b\b\b\b\b\b\b\b\b\b\b\b\b\b\b\b 79% 3715 - data_LoRes/single/L15/L15_008.png\b\b\b\b\b\b\b\b\b\b\b\b\b\b\b\b\b\b\b\b\b\b\b\b\b\b\b\b\b\b\b\b\b\b\b\b\b\b\b\b\b\b\b\b\b                                             \b\b\b\b\b\b\b\b\b\b\b\b\b\b\b\b\b\b\b\b\b\b\b\b\b\b\b\b\b\b\b\b\b\b\b\b\b\b\b\b\b\b\b\b\bEverything is Ok\n",
            "\n",
            "Folders: 33\n",
            "Files: 4944\n",
            "Size:       50316539\n",
            "Compressed: 50354323\n"
          ],
          "name": "stdout"
        }
      ]
    },
    {
      "metadata": {
        "id": "XADJr8CvwZqV",
        "colab_type": "code",
        "colab": {}
      },
      "cell_type": "code",
      "source": [
        "# Imports\n",
        "import cv2\n",
        "import matplotlib.pyplot as plt\n",
        "import numpy as np\n",
        "import os\n",
        "\n",
        "import math\n",
        "import numpy as np\n",
        "import h5py\n",
        "import matplotlib.pyplot as plt\n",
        "import tensorflow as tf\n",
        "from tensorflow.python.framework import ops\n",
        "#from tf_utils import load_dataset, random_mini_batches, convert_to_one_hot, predict\n",
        "\n",
        "%matplotlib inline\n",
        "np.random.seed(1)"
      ],
      "execution_count": 0,
      "outputs": []
    },
    {
      "metadata": {
        "id": "gkLSWO9GwlQd",
        "colab_type": "code",
        "colab": {}
      },
      "cell_type": "code",
      "source": [
        "# Setup for one hot encoding values\n",
        "%cd /content/tray-data/data_LoRes/single\n",
        "one_hot_encode = {}\n",
        "types = [directory for directory in os.listdir('.')]\n",
        "types.sort()\n",
        "i = 0\n",
        "for type in types:\n",
        "  one_hot_encode[type] = i\n",
        "  i = i + 1"
      ],
      "execution_count": 0,
      "outputs": []
    },
    {
      "metadata": {
        "id": "n1RTrko5x2K2",
        "colab_type": "code",
        "colab": {
          "base_uri": "https://localhost:8080/",
          "height": 425
        },
        "outputId": "bf211d3d-0532-4ddf-dbc1-3ed000c0746a"
      },
      "cell_type": "code",
      "source": [
        "path_to_imgs = '/content/tray-data/data_LoRes/single'\n",
        "%cd /content\n",
        "for directory in os.listdir(path_to_imgs):\n",
        "  print(directory)"
      ],
      "execution_count": 17,
      "outputs": [
        {
          "output_type": "stream",
          "text": [
            "/content\n",
            "L13\n",
            "L15\n",
            "L09\n",
            "L04\n",
            "L16\n",
            "L06\n",
            "L18\n",
            "L17\n",
            "L03\n",
            "L01\n",
            "L14\n",
            "L12\n",
            "L11\n",
            "S2\n",
            "S5\n",
            "S1\n",
            "L07\n",
            "S4\n",
            "L08\n",
            "L02\n",
            "S3\n",
            "L05\n",
            "L10\n"
          ],
          "name": "stdout"
        }
      ]
    },
    {
      "metadata": {
        "id": "PGKURrRL1tn0",
        "colab_type": "text"
      },
      "cell_type": "markdown",
      "source": [
        "!ls /content/tray-data"
      ]
    },
    {
      "metadata": {
        "id": "l5XC6NmVy-Dp",
        "colab_type": "code",
        "colab": {}
      },
      "cell_type": "code",
      "source": [
        "path_to_imgs = '/content/tray-data/data_LoRes/single'\n",
        "\n",
        "def one_hot_encode(ordered_class_names):\n",
        "  \"\"\"\n",
        "  Create a dictionary that maps class names to integers from 0 upwards. \n",
        "  Requires ordered list\n",
        "  \"\"\"\n",
        "  one_hot_encoding = {}\n",
        "  i = 0\n",
        "  for class_name in ordered_class_names:\n",
        "    one_hot_encoding[class_name] = i\n",
        "    i = i + 1\n",
        "  return one_hot_encoding\n",
        "\n",
        "def load_full_dataset(path_to_imgs):\n",
        "  \"\"\"\n",
        "  Creates a dictionary that maps class names to numpy arrays representing images\n",
        "  Requires a full path to the images\n",
        "  \"\"\"\n",
        "  full_dataset = {}\n",
        "  i = 0\n",
        "  for directory in os.listdir(path_to_imgs):\n",
        "    x_data = []\n",
        "    directory_path = path_to_imgs + '/' + directory\n",
        "    for png in os.listdir(directory_path):\n",
        "      # Get image and convert to numpy array\n",
        "      png_path = directory_path + '/' + png\n",
        "      im = cv2.imread(png_path)\n",
        "      im = cv2.cvtColor(im, cv2.COLOR_BGR2RGB)\n",
        "      x_data.append(im)\n",
        "      \n",
        "    ## Add key value pair to full_dataset\n",
        "    full_dataset[str(directory)] = x_data\n",
        "    \n",
        "    \n",
        "  return full_dataset\n",
        "\n",
        "def get_dataset(full_dataset, desired_classes, pics_per_class):\n",
        "  # One hot encoding setup\n",
        "  classes = [class_name for class_name in full_dataset]\n",
        "  classes.sort()\n",
        "  one_hot_encoding = one_hot_encode(classes)\n",
        "  \n",
        "  # Initialize return values\n",
        "  X = None\n",
        "  Y = None\n",
        "  \n",
        "  num_classes = len(desired_classes)\n",
        "  \n",
        "  for class_name in desired_classes:\n",
        "    \n",
        "    indices = get_distinct_random_ints(pics_per_class, 0, len(full_dataset[class_name]) - 1)\n",
        "\n",
        "    # Add images from this class\n",
        "    for index in indices:\n",
        "      \n",
        "      im = full_dataset[class_name][index]\n",
        "      # Add to training set\n",
        "      # Initialize array\n",
        "      if X is None:\n",
        "        X = np.array([im])\n",
        "        a = np.zeros((num_classes, 1))\n",
        "        a[one_hot_encoding[class_name]] = 1\n",
        "        Y = np.array([a])\n",
        "      # Append to array\n",
        "      else:\n",
        "        X = np.append(X, [im], axis=0)\n",
        "        a = np.zeros((num_classes, 1))\n",
        "        a[one_hot_encoding[class_name]] = 1\n",
        "        Y = np.append(Y, [a], axis=0)\n",
        "\n",
        "  Y = Y[:, :, 0]\n",
        "  return X, Y\n",
        "\n",
        "\n",
        "def get_distinct_random_ints(num_ints, low, high):\n",
        "  retVal = []\n",
        "  for i in range(0, num_ints):\n",
        "    rand_int = random.randint(low, high)\n",
        "    while rand_int in retVal:\n",
        "      rand_int = random.randint(low, high)\n",
        "    retVal.append(rand_int)\n",
        "  return retVal\n",
        "           \n",
        "def load_train_and_test_dataset(path_to_imgs, desired_classes=None, pics_per_class=50):\n",
        "  if desired_classes is None:\n",
        "    desired_classes = os.listdir(path_to_imgs)\n",
        "    \n",
        "  full_dataset = load_full_dataset(path_to_imgs)\n",
        "  X_train, Y_train = get_dataset(full_dataset, desired_classes=desired_classes, pics_per_class=pics_per_class)\n",
        "  X_test, Y_test = get_dataset(full_dataset, desired_classes=desired_classes, pics_per_class=pics_per_class // 2)  ## Note have some matching with training data\n",
        "  return X_train, Y_train, X_test, Y_test"
      ],
      "execution_count": 0,
      "outputs": []
    },
    {
      "metadata": {
        "id": "YwkkOiju7GwA",
        "colab_type": "code",
        "colab": {}
      },
      "cell_type": "code",
      "source": [
        "X_train, Y_train, X_test, Y_test = load_train_and_test_dataset(path_to_imgs)"
      ],
      "execution_count": 0,
      "outputs": []
    },
    {
      "metadata": {
        "id": "HtrwiimZ5-jb",
        "colab_type": "code",
        "colab": {
          "base_uri": "https://localhost:8080/",
          "height": 353
        },
        "outputId": "c6c38d00-1210-486d-93e6-7571e7cc4dfd"
      },
      "cell_type": "code",
      "source": [
        "print(X_train.shape)\n",
        "print(Y_train.shape)\n",
        "print(X_test.shape)\n",
        "print(Y_test.shape)\n",
        "index = 100\n",
        "plt.imshow(X_train[index])\n",
        "print(Y_train[index])"
      ],
      "execution_count": 102,
      "outputs": [
        {
          "output_type": "stream",
          "text": [
            "(1150, 64, 64, 3)\n",
            "(1150, 23)\n",
            "(575, 64, 64, 3)\n",
            "(575, 23)\n",
            "[0. 0. 0. 0. 0. 0. 0. 0. 1. 0. 0. 0. 0. 0. 0. 0. 0. 0. 0. 0. 0. 0. 0.]\n"
          ],
          "name": "stdout"
        },
        {
          "output_type": "display_data",
          "data": {
            "image/png": "[encoded data removed]",
            "text/plain": [
              "<Figure size 432x288 with 1 Axes>"
            ]
          },
          "metadata": {
            "tags": []
          }
        }
      ]
    },
    {
      "metadata": {
        "id": "l0oX16yT_pD9",
        "colab_type": "code",
        "colab": {
          "base_uri": "https://localhost:8080/",
          "height": 285
        },
        "outputId": "9ad592d7-ce54-425e-fe9b-6acb87a0c2ac"
      },
      "cell_type": "code",
      "source": [
        "index = 100\n",
        "plt.imshow(X_test[index])\n",
        "print(Y_test[index])"
      ],
      "execution_count": 101,
      "outputs": [
        {
          "output_type": "stream",
          "text": [
            "[0. 0. 0. 0. 0. 0. 0. 0. 0. 0. 0. 0. 0. 0. 0. 1. 0. 0. 0. 0. 0. 0. 0.]\n"
          ],
          "name": "stdout"
        },
        {
          "output_type": "display_data",
          "data": {
            "image/png": "[encoded data removed]",
            "text/plain": [
              "<Figure size 432x288 with 1 Axes>"
            ]
          },
          "metadata": {
            "tags": []
          }
        }
      ]
    },
    {
      "metadata": {
        "id": "GAASJHEW89F2",
        "colab_type": "code",
        "outputId": "00d54fa3-ebd9-4a21-cf42-4475862816c3",
        "colab": {
          "base_uri": "https://localhost:8080/",
          "height": 249
        }
      },
      "cell_type": "code",
      "source": [
        "\n",
        "  \n",
        "  \n",
        "# Convert pngs into numpy arrays in full_dataset dict\n",
        "%cd /content/tray-data/data_LoRes/single\n",
        "import os\n",
        "full_dataset = {}\n",
        "P = 0\n",
        "for directory in os.listdir('.'):\n",
        "  x_data = []\n",
        "  y_data = []\n",
        "  for png in os.listdir('/content/tray-data/data_LoRes/single/' + directory):\n",
        "    im = cv2.imread('/content/tray-data/data_LoRes/single/' + directory + '/' + png)\n",
        "    x_data.append(im)\n",
        "    a = np.zeros((len(types), 1))\n",
        "    a[one_hot_encode[directory]] = 1\n",
        "    y_data.append(a)\n",
        "  full_dataset[str(directory) + \"_x\"] = x_data\n",
        "  full_dataset[str(directory) + \"_y\"] = y_data\n",
        "  \n",
        "# Fill in training and test data sets\n",
        "\n",
        "# Initialize \n",
        "X_train = None\n",
        "X_test = None\n",
        "Y_train = None\n",
        "Y_test = None\n",
        "  \n",
        "keys_x = [key for key in full_dataset if not key.find(\"_x\") == -1]\n",
        "keys_x.sort()\n",
        "\n",
        "# Choose number of pictures and classes\n",
        "num_pictures = 70  # per class\n",
        "num_classes = len(keys_x)  # number of classes used for recognition\n",
        "\n",
        "class_num = 0\n",
        "for key_x in keys_x:\n",
        "  # Finish after getting class_num classes\n",
        "  if class_num >= 6:\n",
        "    break\n",
        "  class_num = class_num + 1\n",
        "  i = 0\n",
        "  \n",
        "  # Add images from this class\n",
        "  for im in full_dataset[key_x]:\n",
        "    \n",
        "    # Add to training set\n",
        "    if i <= num_pictures:\n",
        "      # Initialize array\n",
        "      if X_train is None:\n",
        "        X_train = np.array([im])\n",
        "        a = np.zeros((num_classes, 1))\n",
        "        a[one_hot_encode[key_x[:-2]]] = 1\n",
        "        Y_train = np.array([a])\n",
        "      # Append to array\n",
        "      else:\n",
        "        X_train = np.append(X_train, [im], axis=0)\n",
        "        a = np.zeros((num_classes, 1))\n",
        "        a[one_hot_encode[key_x[:-2]]] = 1\n",
        "        Y_train = np.append(Y_train, [a], axis=0)\n",
        "        #print(X_train.shape)\n",
        "        \n",
        "    # Add to test set\n",
        "    elif i <= num_pictures * 3 / 2:  ## 3:2 ratio of train:test size\n",
        "      # Initialize array\n",
        "      if X_test is None:\n",
        "        X_test = np.array([im])\n",
        "        a = np.zeros((num_classes, 1))\n",
        "        a[one_hot_encode[key_x[:-2]]] = 1\n",
        "        Y_test = np.array([a])\n",
        "      # Append to array\n",
        "      else:\n",
        "        X_test = np.append(X_test, [im], axis=0)\n",
        "        a = np.zeros((num_classes, 1))\n",
        "        a[one_hot_encode[key_x[:-2]]] = 1\n",
        "        Y_test = np.append(Y_test, [a], axis=0)\n",
        "        #print(X_test.shape)\n",
        "    else:\n",
        "      break\n",
        "    i = i + 1\n",
        "    \n",
        "Y_train = Y_train[:, :, 0].T\n",
        "Y_test = Y_test[:, :, 0].T\n",
        "print(X_train.shape)\n",
        "print(Y_train.shape)\n",
        "print(X_test.shape)\n",
        "print(Y_test.shape)\n",
        "\n",
        "# Randomize order in datasets (TODO: shuffle earlier on, so mix train and test)\n",
        "import random\n",
        "import copy\n",
        "\n",
        "## Mix up data\n",
        "num_switches = 300\n",
        "for i in range(0, num_switches):\n",
        "  rand1 = random.randint(0, X_train.shape[0]-1)\n",
        "  rand2 = random.randint(0, X_train.shape[0]-1)\n",
        "  temp = copy.copy(X_train[rand1])\n",
        "  X_train[rand1] = X_train[rand2]\n",
        "  X_train[rand2] = temp\n",
        "  \n",
        "  temp = copy.copy(Y_train[:, rand1])\n",
        "  Y_train[:, rand1] = Y_train[:, rand2]\n",
        "  Y_train[:, rand2] = temp\n",
        "  \n",
        "  #print(str(rand1) + \" \" + str(rand2))\n",
        "  \n",
        "for i in range(0, num_switches):\n",
        "  rand1 = random.randint(0, X_test.shape[0]-1)\n",
        "  rand2 = random.randint(0, X_test.shape[0]-1)\n",
        "  temp = copy.copy(X_test[rand1])\n",
        "  X_test[rand1] = X_test[rand2]\n",
        "  X_test[rand2] = temp\n",
        "  \n",
        "  temp = copy.copy(Y_test[:, rand1])\n",
        "  Y_test[:, rand1] = Y_test[:, rand2]\n",
        "  Y_test[:, rand2] = temp\n",
        "  \n",
        "  #print(str(rand1) + \" \" + str(rand2))"
      ],
      "execution_count": 50,
      "outputs": [
        {
          "output_type": "stream",
          "text": [
            "/content/tray-data/data_LoRes/single\n"
          ],
          "name": "stdout"
        },
        {
          "output_type": "error",
          "ename": "NameError",
          "evalue": "ignored",
          "traceback": [
            "\u001b[0;31m---------------------------------------------------------------------------\u001b[0m",
            "\u001b[0;31mNameError\u001b[0m                                 Traceback (most recent call last)",
            "\u001b[0;32m<ipython-input-50-a4b3de0c5a7c>\u001b[0m in \u001b[0;36m<module>\u001b[0;34m()\u001b[0m\n\u001b[1;32m      9\u001b[0m     \u001b[0mim\u001b[0m \u001b[0;34m=\u001b[0m \u001b[0mcv2\u001b[0m\u001b[0;34m.\u001b[0m\u001b[0mimread\u001b[0m\u001b[0;34m(\u001b[0m\u001b[0;34m'/content/tray-data/data_LoRes/single/'\u001b[0m \u001b[0;34m+\u001b[0m \u001b[0mdirectory\u001b[0m \u001b[0;34m+\u001b[0m \u001b[0;34m'/'\u001b[0m \u001b[0;34m+\u001b[0m \u001b[0mpng\u001b[0m\u001b[0;34m)\u001b[0m\u001b[0;34m\u001b[0m\u001b[0;34m\u001b[0m\u001b[0m\n\u001b[1;32m     10\u001b[0m     \u001b[0mx_data\u001b[0m\u001b[0;34m.\u001b[0m\u001b[0mappend\u001b[0m\u001b[0;34m(\u001b[0m\u001b[0mim\u001b[0m\u001b[0;34m)\u001b[0m\u001b[0;34m\u001b[0m\u001b[0;34m\u001b[0m\u001b[0m\n\u001b[0;32m---> 11\u001b[0;31m     \u001b[0ma\u001b[0m \u001b[0;34m=\u001b[0m \u001b[0mnp\u001b[0m\u001b[0;34m.\u001b[0m\u001b[0mzeros\u001b[0m\u001b[0;34m(\u001b[0m\u001b[0;34m(\u001b[0m\u001b[0mlen\u001b[0m\u001b[0;34m(\u001b[0m\u001b[0mtypes\u001b[0m\u001b[0;34m)\u001b[0m\u001b[0;34m,\u001b[0m \u001b[0;36m1\u001b[0m\u001b[0;34m)\u001b[0m\u001b[0;34m)\u001b[0m\u001b[0;34m\u001b[0m\u001b[0;34m\u001b[0m\u001b[0m\n\u001b[0m\u001b[1;32m     12\u001b[0m     \u001b[0ma\u001b[0m\u001b[0;34m[\u001b[0m\u001b[0mone_hot_encode\u001b[0m\u001b[0;34m[\u001b[0m\u001b[0mdirectory\u001b[0m\u001b[0;34m]\u001b[0m\u001b[0;34m]\u001b[0m \u001b[0;34m=\u001b[0m \u001b[0;36m1\u001b[0m\u001b[0;34m\u001b[0m\u001b[0;34m\u001b[0m\u001b[0m\n\u001b[1;32m     13\u001b[0m     \u001b[0my_data\u001b[0m\u001b[0;34m.\u001b[0m\u001b[0mappend\u001b[0m\u001b[0;34m(\u001b[0m\u001b[0ma\u001b[0m\u001b[0;34m)\u001b[0m\u001b[0;34m\u001b[0m\u001b[0;34m\u001b[0m\u001b[0m\n",
            "\u001b[0;31mNameError\u001b[0m: name 'types' is not defined"
          ]
        }
      ]
    },
    {
      "metadata": {
        "id": "KiUHO3Jx92wk",
        "colab_type": "code",
        "outputId": "29d02eda-a10e-4e90-d04b-8433ef3e7082",
        "colab": {
          "base_uri": "https://localhost:8080/",
          "height": 34
        }
      },
      "cell_type": "code",
      "source": [
        "# Convert pngs into numpy arrays in full_dataset dict\n",
        "%cd /content/tray-data/data_LoRes/single\n",
        "import os\n",
        "full_dataset = {}\n",
        "P = 0\n",
        "for directory in os.listdir('.'):\n",
        "  x_data = []\n",
        "  y_data = []\n",
        "  for png in os.listdir('/content/tray-data/data_LoRes/single/' + directory):\n",
        "    im = cv2.imread('/content/tray-data/data_LoRes/single/' + directory + '/' + png)\n",
        "    x_data.append(im)\n",
        "    a = np.zeros((len(types), 1))\n",
        "    a[one_hot_encode[directory]] = 1\n",
        "    y_data.append(a)\n",
        "  full_dataset[str(directory) + \"_x\"] = x_data\n",
        "  full_dataset[str(directory) + \"_y\"] = y_data\n",
        "  \n"
      ],
      "execution_count": 49,
      "outputs": [
        {
          "output_type": "stream",
          "text": [
            "/content/tray-data/data_LoRes/single\n"
          ],
          "name": "stdout"
        }
      ]
    },
    {
      "metadata": {
        "id": "lfMp6TtUzhLV",
        "colab_type": "code",
        "outputId": "51f1179f-59ed-4c7f-ea86-a0d8881b58d2",
        "colab": {
          "base_uri": "https://localhost:8080/",
          "height": 302
        }
      },
      "cell_type": "code",
      "source": [
        "# Example image\n",
        "print(full_dataset['L11_x'][0].shape)\n",
        "plt.imshow(full_dataset['L11_x'][10])"
      ],
      "execution_count": 50,
      "outputs": [
        {
          "output_type": "stream",
          "text": [
            "(64, 64, 3)\n"
          ],
          "name": "stdout"
        },
        {
          "output_type": "execute_result",
          "data": {
            "text/plain": [
              "<matplotlib.image.AxesImage at 0x7f31f0470470>"
            ]
          },
          "metadata": {
            "tags": []
          },
          "execution_count": 50
        },
        {
          "output_type": "display_data",
          "data": {
            "image/png": "[encoded data removed]",
            "text/plain": [
              "<Figure size 432x288 with 1 Axes>"
            ]
          },
          "metadata": {
            "tags": []
          }
        }
      ]
    },
    {
      "metadata": {
        "id": "GGh2QvtJ7f6z",
        "colab_type": "text"
      },
      "cell_type": "markdown",
      "source": [
        "plt.imshow(b[1])"
      ]
    },
    {
      "metadata": {
        "id": "nCCcWHItG725",
        "colab_type": "code",
        "outputId": "30531048-93ad-48fe-d0dc-6d32167c1a4c",
        "colab": {
          "base_uri": "https://localhost:8080/",
          "height": 85
        }
      },
      "cell_type": "code",
      "source": [
        "# Fill in training and test data sets\n",
        "\n",
        "# Initialize \n",
        "X_train = None\n",
        "X_test = None\n",
        "Y_train = None\n",
        "Y_test = None\n",
        "  \n",
        "keys_x = [key for key in full_dataset if not key.find(\"_x\") == -1]\n",
        "keys_x.sort()\n",
        "\n",
        "# Choose number of pictures and classes\n",
        "num_pictures = 70  # per class\n",
        "num_classes = len(keys_x)  # number of classes used for recognition\n",
        "\n",
        "class_num = 0\n",
        "for key_x in keys_x:\n",
        "  # Finish after getting class_num classes\n",
        "  if class_num >= 6:\n",
        "    break\n",
        "  class_num = class_num + 1\n",
        "  i = 0\n",
        "  \n",
        "  # Add images from this class\n",
        "  for im in full_dataset[key_x]:\n",
        "    \n",
        "    # Add to training set\n",
        "    if i <= num_pictures:\n",
        "      # Initialize array\n",
        "      if X_train is None:\n",
        "        X_train = np.array([im])\n",
        "        a = np.zeros((num_classes, 1))\n",
        "        a[one_hot_encode[key_x[:-2]]] = 1\n",
        "        Y_train = np.array([a])\n",
        "      # Append to array\n",
        "      else:\n",
        "        X_train = np.append(X_train, [im], axis=0)\n",
        "        a = np.zeros((num_classes, 1))\n",
        "        a[one_hot_encode[key_x[:-2]]] = 1\n",
        "        Y_train = np.append(Y_train, [a], axis=0)\n",
        "        #print(X_train.shape)\n",
        "        \n",
        "    # Add to test set\n",
        "    elif i <= num_pictures * 3 / 2:  ## 3:2 ratio of train:test size\n",
        "      # Initialize array\n",
        "      if X_test is None:\n",
        "        X_test = np.array([im])\n",
        "        a = np.zeros((num_classes, 1))\n",
        "        a[one_hot_encode[key_x[:-2]]] = 1\n",
        "        Y_test = np.array([a])\n",
        "      # Append to array\n",
        "      else:\n",
        "        X_test = np.append(X_test, [im], axis=0)\n",
        "        a = np.zeros((num_classes, 1))\n",
        "        a[one_hot_encode[key_x[:-2]]] = 1\n",
        "        Y_test = np.append(Y_test, [a], axis=0)\n",
        "        #print(X_test.shape)\n",
        "    else:\n",
        "      break\n",
        "    i = i + 1\n",
        "    \n",
        "Y_train = Y_train[:, :, 0].T\n",
        "Y_test = Y_test[:, :, 0].T\n",
        "print(X_train.shape)\n",
        "print(Y_train.shape)\n",
        "print(X_test.shape)\n",
        "print(Y_test.shape)\n"
      ],
      "execution_count": 51,
      "outputs": [
        {
          "output_type": "stream",
          "text": [
            "(426, 64, 64, 3)\n",
            "(23, 426)\n",
            "(196, 64, 64, 3)\n",
            "(23, 196)\n"
          ],
          "name": "stdout"
        }
      ]
    },
    {
      "metadata": {
        "id": "mypeeQT7mZG9",
        "colab_type": "code",
        "outputId": "f13b010d-2ec5-480a-90eb-7f66b86679cd",
        "colab": {
          "base_uri": "https://localhost:8080/",
          "height": 285
        }
      },
      "cell_type": "code",
      "source": [
        "# Example image and label\n",
        "index = 180\n",
        "plt.imshow(X_train[index])\n",
        "print(Y_train[:, index])"
      ],
      "execution_count": 52,
      "outputs": [
        {
          "output_type": "stream",
          "text": [
            "[0. 0. 1. 0. 0. 0. 0. 0. 0. 0. 0. 0. 0. 0. 0. 0. 0. 0. 0. 0. 0. 0. 0.]\n"
          ],
          "name": "stdout"
        },
        {
          "output_type": "display_data",
          "data": {
            "image/png": "[encoded data removed]",
            "text/plain": [
              "<Figure size 432x288 with 1 Axes>"
            ]
          },
          "metadata": {
            "tags": []
          }
        }
      ]
    },
    {
      "metadata": {
        "id": "LZuB0nRfU4RE",
        "colab_type": "code",
        "colab": {}
      },
      "cell_type": "code",
      "source": [
        "# Randomize order in datasets (TODO: shuffle earlier on, so mix train and test)\n",
        "import random\n",
        "import copy\n",
        "\n",
        "## Mix up data\n",
        "num_switches = 300\n",
        "for i in range(0, num_switches):\n",
        "  rand1 = random.randint(0, X_train.shape[0]-1)\n",
        "  rand2 = random.randint(0, X_train.shape[0]-1)\n",
        "  temp = copy.copy(X_train[rand1])\n",
        "  X_train[rand1] = X_train[rand2]\n",
        "  X_train[rand2] = temp\n",
        "  \n",
        "  temp = copy.copy(Y_train[:, rand1])\n",
        "  Y_train[:, rand1] = Y_train[:, rand2]\n",
        "  Y_train[:, rand2] = temp\n",
        "  \n",
        "  #print(str(rand1) + \" \" + str(rand2))\n",
        "  \n",
        "for i in range(0, num_switches):\n",
        "  rand1 = random.randint(0, X_test.shape[0]-1)\n",
        "  rand2 = random.randint(0, X_test.shape[0]-1)\n",
        "  temp = copy.copy(X_test[rand1])\n",
        "  X_test[rand1] = X_test[rand2]\n",
        "  X_test[rand2] = temp\n",
        "  \n",
        "  temp = copy.copy(Y_test[:, rand1])\n",
        "  Y_test[:, rand1] = Y_test[:, rand2]\n",
        "  Y_test[:, rand2] = temp\n",
        "  \n",
        "  #print(str(rand1) + \" \" + str(rand2))"
      ],
      "execution_count": 0,
      "outputs": []
    },
    {
      "metadata": {
        "id": "iY5VxFJmX2Zb",
        "colab_type": "code",
        "outputId": "7443dca7-79f2-493f-8604-ddbada796215",
        "colab": {
          "base_uri": "https://localhost:8080/",
          "height": 285
        }
      },
      "cell_type": "code",
      "source": [
        "# Example view test image and label\n",
        "index = 12\n",
        "plt.imshow(X_test[index])\n",
        "print(Y_test[:, index])"
      ],
      "execution_count": 27,
      "outputs": [
        {
          "output_type": "stream",
          "text": [
            "[0. 0. 0. 0. 0. 1. 0. 0. 0. 0. 0. 0. 0. 0. 0. 0. 0. 0. 0. 0. 0. 0. 0.]\n"
          ],
          "name": "stdout"
        },
        {
          "output_type": "display_data",
          "data": {
            "image/png": "[encoded data removed]",
            "text/plain": [
              "<Figure size 432x288 with 1 Axes>"
            ]
          },
          "metadata": {
            "tags": []
          }
        }
      ]
    },
    {
      "metadata": {
        "id": "RL5HH4RmWLzY",
        "colab_type": "code",
        "outputId": "4ad55409-25a0-4c17-808f-21de1bf1f1f4",
        "colab": {
          "base_uri": "https://localhost:8080/",
          "height": 285
        }
      },
      "cell_type": "code",
      "source": [
        "# Example view train image and label\n",
        "index = 340\n",
        "plt.imshow(X_train[index])\n",
        "print(Y_train[:, index])"
      ],
      "execution_count": 28,
      "outputs": [
        {
          "output_type": "stream",
          "text": [
            "[0. 0. 0. 0. 1. 0. 0. 0. 0. 0. 0. 0. 0. 0. 0. 0. 0. 0. 0. 0. 0. 0. 0.]\n"
          ],
          "name": "stdout"
        },
        {
          "output_type": "display_data",
          "data": {
            "image/png": "[encoded data removed]",
            "text/plain": [
              "<Figure size 432x288 with 1 Axes>"
            ]
          },
          "metadata": {
            "tags": []
          }
        }
      ]
    },
    {
      "metadata": {
        "id": "U1obgHCuxFqz",
        "colab_type": "code",
        "outputId": "f014677c-9ecf-4071-8db8-4793388569b8",
        "colab": {
          "base_uri": "https://localhost:8080/",
          "height": 285
        }
      },
      "cell_type": "code",
      "source": [
        "plt.imshow(full_dataset['L06_x'][0])"
      ],
      "execution_count": 30,
      "outputs": [
        {
          "output_type": "execute_result",
          "data": {
            "text/plain": [
              "<matplotlib.image.AxesImage at 0x7f31f02ce7f0>"
            ]
          },
          "metadata": {
            "tags": []
          },
          "execution_count": 30
        },
        {
          "output_type": "display_data",
          "data": {
            "image/png": "[encoded data removed]",
            "text/plain": [
              "<Figure size 432x288 with 1 Axes>"
            ]
          },
          "metadata": {
            "tags": []
          }
        }
      ]
    },
    {
      "metadata": {
        "id": "oSZL3DR_MGgg",
        "colab_type": "code",
        "colab": {}
      },
      "cell_type": "code",
      "source": [
        "# Reshape the training and test examples \n",
        "X_train_flatten = X_train.reshape(X_train.shape[0], -1).T   # The \"-1\" makes reshape flatten the remaining dimensions\n",
        "X_test_flatten = X_test.reshape(X_test.shape[0], -1).T\n",
        "\n",
        "# Standardize data to have feature values between 0 and 1.\n",
        "train_x = X_train_flatten/255.\n",
        "test_x = X_test_flatten/255.\n",
        "\n",
        "train_y = Y_train\n",
        "test_y = Y_test"
      ],
      "execution_count": 0,
      "outputs": []
    },
    {
      "metadata": {
        "id": "6VtLTHcC2R_U",
        "colab_type": "code",
        "outputId": "3e7ef42e-67e5-4bcd-8a68-cc9a9187906c",
        "colab": {
          "base_uri": "https://localhost:8080/",
          "height": 85
        }
      },
      "cell_type": "code",
      "source": [
        "print (\"train_x's shape: \" + str(train_x.shape))\n",
        "print (\"test_x's shape: \" + str(test_x.shape))\n",
        "print (\"train_y's shape: \" + str(train_y.shape))\n",
        "print (\"test_y's shape: \" + str(test_y.shape))"
      ],
      "execution_count": 54,
      "outputs": [
        {
          "output_type": "stream",
          "text": [
            "train_x's shape: (12288, 426)\n",
            "test_x's shape: (12288, 196)\n",
            "train_y's shape: (23, 426)\n",
            "test_y's shape: (23, 196)\n"
          ],
          "name": "stdout"
        }
      ]
    },
    {
      "metadata": {
        "id": "30Hvr9uFyemV",
        "colab_type": "code",
        "colab": {}
      },
      "cell_type": "code",
      "source": [
        "# GRADED FUNCTION: create_placeholders\n",
        "\n",
        "def create_placeholders(n_x, n_y):\n",
        "    \"\"\"\n",
        "    Creates the placeholders for the tensorflow session.\n",
        "    \n",
        "    Arguments:\n",
        "    n_x -- scalar, size of an image vector (num_px * num_px = 64 * 64 * 3 = 12288)\n",
        "    n_y -- scalar, number of classes (from 0 to 5, so -> 6)\n",
        "    \n",
        "    Returns:\n",
        "    X -- placeholder for the data input, of shape [n_x, None] and dtype \"float\"\n",
        "    Y -- placeholder for the input labels, of shape [n_y, None] and dtype \"float\"\n",
        "    \n",
        "    Tips:\n",
        "    - You will use None because it let's us be flexible on the number of examples you will for the placeholders.\n",
        "      In fact, the number of examples during test/train is different.\n",
        "    \"\"\"\n",
        "\n",
        "    ### START CODE HERE ### (approx. 2 lines)\n",
        "    X = tf.placeholder(dtype=tf.float32, shape=[n_x, None])\n",
        "    Y = tf.placeholder(dtype=tf.float32, shape=[n_y, None])\n",
        "    ### END CODE HERE ###\n",
        "    \n",
        "    return X, Y"
      ],
      "execution_count": 0,
      "outputs": []
    },
    {
      "metadata": {
        "id": "Yt0bNFbtyh31",
        "colab_type": "code",
        "colab": {}
      },
      "cell_type": "code",
      "source": [
        "# GRADED FUNCTION: initialize_parameters\n",
        "\n",
        "def initialize_parameters():\n",
        "    \"\"\"\n",
        "    Initializes parameters to build a neural network with tensorflow. The shapes are:\n",
        "                        W1 : [25, 316875]\n",
        "                        b1 : [25, 1]\n",
        "                        W2 : [12, 25]\n",
        "                        b2 : [12, 1]\n",
        "                        W3 : [23, 12]\n",
        "                        b3 : [23, 1]\n",
        "    \n",
        "    Returns:\n",
        "    parameters -- a dictionary of tensors containing W1, b1, W2, b2, W3, b3\n",
        "    \"\"\"\n",
        "    \n",
        "    tf.set_random_seed(1)                   # so that your \"random\" numbers match ours\n",
        "        \n",
        "    ### START CODE HERE ### (approx. 6 lines of code)\n",
        "    W1 = tf.get_variable(\"W1\", [20, 12288], initializer=tf.contrib.layers.xavier_initializer(seed=1))\n",
        "    b1 = tf.get_variable(\"b1\", [20, 1], initializer=tf.zeros_initializer())\n",
        "    W2 = tf.get_variable(\"W2\", [12, 20], initializer=tf.contrib.layers.xavier_initializer(seed=1))\n",
        "    b2 = tf.get_variable(\"b2\", [12, 1], initializer=tf.zeros_initializer())\n",
        "    W3 = tf.get_variable(\"W3\", [23, 12], initializer=tf.contrib.layers.xavier_initializer(seed=1))\n",
        "    b3 = tf.get_variable(\"b3\", [23, 1], initializer=tf.zeros_initializer())\n",
        "#     W4 = tf.get_variable(\"W4\", [23, 35], initializer=tf.contrib.layers.xavier_initializer(seed=1))\n",
        "#     b4 = tf.get_variable(\"b4\", [23, 1], initializer=tf.zeros_initializer())\n",
        "#     W4 = tf.get_variable(\"W4\", [30, 35], initializer=tf.contrib.layers.xavier_initializer(seed=1))\n",
        "#     b4 = tf.get_variable(\"b4\", [30, 1], initializer=tf.zeros_initializer())\n",
        "#     W5 = tf.get_variable(\"W5\", [23, 30], initializer=tf.contrib.layers.xavier_initializer(seed=1))\n",
        "#     b5 = tf.get_variable(\"b5\", [23, 1], initializer=tf.zeros_initializer())\n",
        "    ### END CODE HERE ###\n",
        "\n",
        "    parameters = {\"W1\": W1,\n",
        "                  \"b1\": b1,\n",
        "                  \"W2\": W2,\n",
        "                  \"b2\": b2,\n",
        "                  \"W3\": W3,\n",
        "                  \"b3\": b3}\n",
        "#                   \"W4\": W4,\n",
        "#                   \"b4\": b4,\n",
        "#                   \"W5\": W5,\n",
        "#                   \"b5\": b5}\n",
        "    \n",
        "    return parameters"
      ],
      "execution_count": 0,
      "outputs": []
    },
    {
      "metadata": {
        "id": "LdEKBoQkyujm",
        "colab_type": "code",
        "colab": {}
      },
      "cell_type": "code",
      "source": [
        "# GRADED FUNCTION: forward_propagation\n",
        "\n",
        "def forward_propagation(X, parameters):\n",
        "    \"\"\"\n",
        "    Implements the forward propagation for the model: LINEAR -> RELU -> LINEAR -> RELU -> LINEAR -> SOFTMAX\n",
        "    \n",
        "    Arguments:\n",
        "    X -- input dataset placeholder, of shape (input size, number of examples)\n",
        "    parameters -- python dictionary containing your parameters \"W1\", \"b1\", \"W2\", \"b2\", \"W3\", \"b3\"\n",
        "                  the shapes are given in initialize_parameters\n",
        "\n",
        "    Returns:\n",
        "    Z3 -- the output of the last LINEAR unit\n",
        "    \"\"\"\n",
        "    \n",
        "    # Retrieve the parameters from the dictionary \"parameters\" \n",
        "    W1 = parameters['W1']\n",
        "    b1 = parameters['b1']\n",
        "    W2 = parameters['W2']\n",
        "    b2 = parameters['b2']\n",
        "    W3 = parameters['W3']\n",
        "    b3 = parameters['b3']\n",
        "#     W4 = parameters['W4']\n",
        "#     b4 = parameters['b4']\n",
        "#     W5 = parameters['W5']\n",
        "#     b5 = parameters['b5']\n",
        "    \n",
        "    ### START CODE HERE ### (approx. 5 lines)              # Numpy Equivalents:\n",
        "    Z1 = tf.add(tf.matmul(W1, X), b1)                                              # Z1 = np.dot(W1, X) + b1\n",
        "    A1 = tf.nn.relu(Z1)                                              # A1 = relu(Z1)\n",
        "    Z2 = tf.add(tf.matmul(W2, A1), b2)                                              # Z2 = np.dot(W2, a1) + b2\n",
        "    A2 = tf.nn.relu(Z2)                                              # A2 = relu(Z2)\n",
        "    Z3 = tf.add(tf.matmul(W3, A2), b3)\n",
        "#     A3 = tf.nn.relu(Z3)                                              # A2 = relu(Z2)\n",
        "#     Z4 = tf.add(tf.matmul(W4, A3), b4)\n",
        "#     A4 = tf.nn.relu(Z4)                                              # A2 = relu(Z2)\n",
        "#     Z5 = tf.add(tf.matmul(W5, A4), b5)\n",
        "\n",
        "    ### END CODE HERE ###\n",
        "    \n",
        "    return Z3"
      ],
      "execution_count": 0,
      "outputs": []
    },
    {
      "metadata": {
        "id": "W-GaKK1KyyC0",
        "colab_type": "code",
        "colab": {}
      },
      "cell_type": "code",
      "source": [
        "# GRADED FUNCTION: compute_cost \n",
        "\n",
        "def compute_cost(Z5, Y):\n",
        "    \"\"\"\n",
        "    Computes the cost\n",
        "    \n",
        "    Arguments:\n",
        "    Z3 -- output of forward propagation (output of the last LINEAR unit), of shape (6, number of examples)\n",
        "    Y -- \"true\" labels vector placeholder, same shape as Z3\n",
        "    \n",
        "    Returns:\n",
        "    cost - Tensor of the cost function\n",
        "    \"\"\"\n",
        "    \n",
        "    # to fit the tensorflow requirement for tf.nn.softmax_cross_entropy_with_logits(...,...)\n",
        "    logits = tf.transpose(Z5)\n",
        "    labels = tf.transpose(Y)\n",
        "    \n",
        "    ### START CODE HERE ### (1 line of code)\n",
        "    print(Z5.shape)\n",
        "    print(Y.shape)\n",
        "    cost = tf.reduce_mean(tf.nn.softmax_cross_entropy_with_logits(logits=logits, labels=labels))\n",
        "    ### END CODE HERE ###\n",
        "    \n",
        "    return cost"
      ],
      "execution_count": 0,
      "outputs": []
    },
    {
      "metadata": {
        "id": "OEcjbgqKziIW",
        "colab_type": "code",
        "colab": {}
      },
      "cell_type": "code",
      "source": [
        "def random_mini_batches(X_train, Y_train, minibatch_size, seed):\n",
        "  random.seed(seed)\n",
        "  retVal = []\n",
        "  (n_x, m) = X_train.shape                          # (n_x: input size, m : number of examples in the train set)\n",
        "  (n_y, m) = Y_train.shape \n",
        "  num_minibatches = m // minibatch_size - 2\n",
        "  visited = []\n",
        "  \n",
        "  for minibatch in range(0, num_minibatches):\n",
        "    x = np.zeros((n_x, minibatch_size))\n",
        "    y = np.zeros((n_y, minibatch_size))\n",
        "    for i in range(0, minibatch_size):\n",
        "      index = -1\n",
        "      while index < 0:\n",
        "        index = random.randint(0, X_train.shape[1] - 1)\n",
        "        if index in visited:\n",
        "          index = -1\n",
        "      visited.append(index)\n",
        "      x[:, i] = X_train[:, index]\n",
        "      y[:, i] = Y_train[:, index]\n",
        "    retVal.append((x, y))\n",
        "      \n",
        "  return retVal"
      ],
      "execution_count": 0,
      "outputs": []
    },
    {
      "metadata": {
        "id": "wltkPbwBy0o0",
        "colab_type": "code",
        "colab": {}
      },
      "cell_type": "code",
      "source": [
        "def model(X_train, Y_train, X_test, Y_test, learning_rate = 0.00001,\n",
        "          num_epochs = 1500, minibatch_size = 32, print_cost = True):\n",
        "    \"\"\"\n",
        "    Implements a three-layer tensorflow neural network: LINEAR->RELU->LINEAR->RELU->LINEAR->SOFTMAX.\n",
        "    \n",
        "    Arguments:\n",
        "    X_train -- training set, of shape (input size = 12288, number of training examples = 1080)\n",
        "    Y_train -- test set, of shape (output size = 6, number of training examples = 1080)\n",
        "    X_test -- training set, of shape (input size = 12288, number of training examples = 120)\n",
        "    Y_test -- test set, of shape (output size = 6, number of test examples = 120)\n",
        "    learning_rate -- learning rate of the optimization\n",
        "    num_epochs -- number of epochs of the optimization loop\n",
        "    minibatch_size -- size of a minibatch\n",
        "    print_cost -- True to print the cost every 100 epochs\n",
        "    \n",
        "    Returns:\n",
        "    parameters -- parameters learnt by the model. They can then be used to predict.\n",
        "    \"\"\"\n",
        "    \n",
        "    ops.reset_default_graph()                         # to be able to rerun the model without overwriting tf variables\n",
        "    tf.set_random_seed(1)                             # to keep consistent results\n",
        "    seed = 3                                          # to keep consistent results\n",
        "    (n_x, m) = X_train.shape                          # (n_x: input size, m : number of examples in the train set)\n",
        "    n_y = Y_train.shape[0]                            # n_y : output size\n",
        "    costs = []                                        # To keep track of the cost\n",
        "    \n",
        "\n",
        "    # Create Placeholders of shape (n_x, n_y)\n",
        "    ### START CODE HERE ### (1 line)\n",
        "    X, Y = create_placeholders(n_x, n_y)\n",
        "    ### END CODE HERE ###\n",
        "\n",
        "    # Initialize parameters\n",
        "    ### START CODE HERE ### (1 line)\n",
        "    parameters = initialize_parameters()\n",
        "    ### END CODE HERE ###\n",
        "    \n",
        "    # Forward propagation: Build the forward propagation in the tensorflow graph\n",
        "    ### START CODE HERE ### (1 line)\n",
        "    Z3 = forward_propagation(X, parameters)\n",
        "    ### END CODE HERE ###\n",
        "    \n",
        "    # Cost function: Add cost function to tensorflow graph\n",
        "    ### START CODE HERE ### (1 line)\n",
        "    cost = compute_cost(Z3, Y)\n",
        "    ### END CODE HERE ###\n",
        "    \n",
        "    # Backpropagation: Define the tensorflow optimizer. Use an AdamOptimizer.\n",
        "    ### START CODE HERE ### (1 line)\n",
        "    optimizer = tf.train.AdamOptimizer(learning_rate=learning_rate).minimize(cost)\n",
        "    ### END CODE HERE ###\n",
        "    \n",
        "    # Initialize all the variables\n",
        "    init = tf.global_variables_initializer()\n",
        "\n",
        "    # Start the session to compute the tensorflow graph\n",
        "    with tf.Session() as sess:\n",
        "        \n",
        "        # Run the initialization\n",
        "        sess.run(init)\n",
        "        \n",
        "        # Do the training loop\n",
        "        for epoch in range(num_epochs):\n",
        "\n",
        "            epoch_cost = 0.                       # Defines a cost related to an epoch\n",
        "            num_minibatches = int(m / minibatch_size) # number of minibatches of size minibatch_size in the train set\n",
        "            seed = seed + 1\n",
        "            minibatches = random_mini_batches(X_train, Y_train, minibatch_size, seed)\n",
        "\n",
        "            for minibatch in minibatches:\n",
        "\n",
        "                # Select a minibatch\n",
        "                (minibatch_X, minibatch_Y) = minibatch\n",
        "                \n",
        "                # IMPORTANT: The line that runs the graph on a minibatch.\n",
        "                # Run the session to execute the \"optimizer\" and the \"cost\", the feedict should contain a minibatch for (X,Y).\n",
        "                ### START CODE HERE ### (1 line)\n",
        "                _ , minibatch_cost = sess.run([optimizer, cost], feed_dict={X: minibatch_X, Y: minibatch_Y})\n",
        "                ### END CODE HERE ###\n",
        "                \n",
        "                epoch_cost += minibatch_cost / num_minibatches\n",
        "\n",
        "            # Print the cost every epoch\n",
        "            if print_cost == True and epoch % 100 == 0:\n",
        "                print (\"Cost after epoch %i: %f\" % (epoch, epoch_cost))\n",
        "            if print_cost == True and epoch % 5 == 0:\n",
        "                costs.append(epoch_cost)\n",
        "                \n",
        "        # plot the cost\n",
        "        plt.plot(np.squeeze(costs))\n",
        "        plt.ylabel('cost')\n",
        "        plt.xlabel('iterations (per tens)')\n",
        "        plt.title(\"Learning rate =\" + str(learning_rate))\n",
        "        plt.show()\n",
        "\n",
        "        # lets save the parameters in a variable\n",
        "        parameters = sess.run(parameters)\n",
        "        print (\"Parameters have been trained!\")\n",
        "\n",
        "        # Calculate the correct predictions\n",
        "        correct_prediction = tf.equal(tf.argmax(Z3), tf.argmax(Y))\n",
        "\n",
        "        # Calculate accuracy on the test set\n",
        "        accuracy = tf.reduce_mean(tf.cast(correct_prediction, \"float\"))\n",
        "\n",
        "        print (\"Train Accuracy:\", accuracy.eval({X: X_train, Y: Y_train}))\n",
        "        print (\"Test Accuracy:\", accuracy.eval({X: X_test, Y: Y_test}))\n",
        "        saver = tf.train.Saver()\n",
        "        saver.save(sess, './' + 'model.checkpoint')\n",
        "        print (\"Model saved\")\n",
        "        return parameters"
      ],
      "execution_count": 0,
      "outputs": []
    },
    {
      "metadata": {
        "id": "5nYOkpmoy0vc",
        "colab_type": "code",
        "outputId": "011b424e-fb7a-44e2-ac86-e13fed10b698",
        "colab": {
          "base_uri": "https://localhost:8080/",
          "height": 651
        }
      },
      "cell_type": "code",
      "source": [
        "parameters = model(train_x, train_y, test_x, test_y)"
      ],
      "execution_count": 46,
      "outputs": [
        {
          "output_type": "stream",
          "text": [
            "(23, ?)\n",
            "(23, ?)\n",
            "Cost after epoch 0: 2.681277\n",
            "Cost after epoch 100: 2.391702\n",
            "Cost after epoch 200: 2.179243\n",
            "Cost after epoch 300: 1.955476\n",
            "Cost after epoch 400: 1.787951\n",
            "Cost after epoch 500: 1.656920\n",
            "Cost after epoch 600: 1.506542\n",
            "Cost after epoch 700: 1.345021\n",
            "Cost after epoch 800: 1.226299\n",
            "Cost after epoch 900: 1.069413\n",
            "Cost after epoch 1000: 0.861679\n",
            "Cost after epoch 1100: 0.702216\n",
            "Cost after epoch 1200: 0.550729\n",
            "Cost after epoch 1300: 0.394828\n",
            "Cost after epoch 1400: 0.259287\n"
          ],
          "name": "stdout"
        },
        {
          "output_type": "display_data",
          "data": {
            "image/png": "[encoded data removed]",
            "text/plain": [
              "<Figure size 432x288 with 1 Axes>"
            ]
          },
          "metadata": {
            "tags": []
          }
        },
        {
          "output_type": "stream",
          "text": [
            "Parameters have been trained!\n",
            "Train Accuracy: 0.9929578\n",
            "Test Accuracy: 0.9897959\n",
            "Model saved\n"
          ],
          "name": "stdout"
        }
      ]
    },
    {
      "metadata": {
        "id": "YIjdvcTO23-x",
        "colab_type": "code",
        "colab": {}
      },
      "cell_type": "code",
      "source": [
        ""
      ],
      "execution_count": 0,
      "outputs": []
    }
  ]
}