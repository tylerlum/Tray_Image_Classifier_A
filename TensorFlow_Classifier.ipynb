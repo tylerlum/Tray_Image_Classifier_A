{
  "nbformat": 4,
  "nbformat_minor": 0,
  "metadata": {
    "colab": {
      "name": "TensorFlow Classifier.ipynb",
      "version": "0.3.2",
      "provenance": [],
      "collapsed_sections": [],
      "include_colab_link": true
    },
    "kernelspec": {
      "name": "python3",
      "display_name": "Python 3"
    },
    "accelerator": "GPU"
  },
  "cells": [
    {
      "cell_type": "markdown",
      "metadata": {
        "id": "view-in-github",
        "colab_type": "text"
      },
      "source": [
        "<a href=\"https://colab.research.google.com/github/tylerlum/Tray_Image_Classifier_A/blob/master/TensorFlow_Classifier.ipynb\" target=\"_parent\"><img src=\"https://colab.research.google.com/assets/colab-badge.svg\" alt=\"Open In Colab\"/></a>"
      ]
    },
    {
      "metadata": {
        "id": "XADJr8CvwZqV",
        "colab_type": "code",
        "colab": {}
      },
      "cell_type": "code",
      "source": [
        "# Imports\n",
        "import cv2\n",
        "import matplotlib.pyplot as plt\n",
        "import numpy as np\n",
        "import os\n",
        "\n",
        "import math\n",
        "import numpy as np\n",
        "import h5py\n",
        "import matplotlib.pyplot as plt\n",
        "import tensorflow as tf\n",
        "from tensorflow.python.framework import ops\n",
        "#from tf_utils import load_dataset, random_mini_batches, convert_to_one_hot, predict\n",
        "import random\n",
        "\n",
        "%matplotlib inline\n",
        "np.random.seed(1)"
      ],
      "execution_count": 0,
      "outputs": []
    },
    {
      "metadata": {
        "id": "l5XC6NmVy-Dp",
        "colab_type": "code",
        "colab": {}
      },
      "cell_type": "code",
      "source": [
        "##################################### Small Helper Functions #####################################\n",
        "def download_files():\n",
        "  \"\"\"\n",
        "  Use google_drive_downloader to download HiRes and LoRes data\n",
        "  \"\"\"\n",
        "  !pip install googledrivedownloader\n",
        "  from google_drive_downloader import GoogleDriveDownloader as gdd\n",
        "\n",
        "  gdd.download_file_from_google_drive(file_id='1smbsz8AJ-VGhKbtr7NTvAVzTI3auI_C4',\n",
        "                                      dest_path='/content/tray-data/HiRes.7z')\n",
        "  gdd.download_file_from_google_drive(file_id='1wZ-AHv4yx_lXGeaqKzbTNuap6mpESyEq',\n",
        "                                      dest_path='/content/tray-data/LoRes.7z')\n",
        "\n",
        "  # Extract.7z file\n",
        "  %cd /content/tray-data\n",
        "  !7z x /content/tray-data/HiRes.7z \n",
        "  !7z x /content/tray-data/LoRes.7z \n",
        "  \n",
        "def get_one_hot_encoding(ordered_class_names):\n",
        "  \"\"\"\n",
        "  Create a dictionary that maps class names to integers from 0 upwards. \n",
        "  Requires ordered list\n",
        "  \"\"\"\n",
        "  one_hot_encoding = {}\n",
        "  i = 0\n",
        "  for class_name in ordered_class_names:\n",
        "    one_hot_encoding[class_name] = i\n",
        "    i = i + 1\n",
        "  return one_hot_encoding\n",
        "\n",
        "def get_distinct_random_ints(num_ints, low, high):\n",
        "  \"\"\"\n",
        "  Returns list of length num_ints\n",
        "  Each value is a number n such that low <= n <= high\n",
        "  Each value is distinct\n",
        "  \"\"\"\n",
        "  retVal = []\n",
        "  for i in range(0, num_ints):\n",
        "    rand_int = random.randint(low, high)\n",
        "    while rand_int in retVal:\n",
        "      rand_int = random.randint(low, high)\n",
        "    retVal.append(rand_int)\n",
        "  return retVal\n",
        "\n",
        "def one_hot_encode(class_name, num_classes, one_hot_encoding):\n",
        "  retVal = np.zeros((num_classes, 1))\n",
        "  retVal[one_hot_encoding[class_name]] = 1\n",
        "  return retVal\n",
        "\n",
        "##################################### Medium Helper Functions #####################################\n",
        "def load_full_dataset(path_to_imgs):\n",
        "  \"\"\"\n",
        "  Creates a dictionary that maps class names to numpy arrays representing images\n",
        "  Requires a full path to the images\n",
        "  \"\"\"\n",
        "  full_dataset = {}\n",
        "  i = 0\n",
        "  for directory in os.listdir(path_to_imgs):\n",
        "    x_data = []\n",
        "    directory_path = path_to_imgs + '/' + directory\n",
        "    for png in os.listdir(directory_path):\n",
        "      # Get image and convert to numpy array\n",
        "      png_path = directory_path + '/' + png\n",
        "      im = cv2.imread(png_path)\n",
        "      im = cv2.cvtColor(im, cv2.COLOR_BGR2RGB)\n",
        "      x_data.append(im)\n",
        "      \n",
        "    ## Add key value pair to full_dataset\n",
        "    full_dataset[str(directory)] = x_data\n",
        "    \n",
        "  return full_dataset\n",
        "\n",
        "def get_dataset(full_dataset, desired_classes, pics_per_class):\n",
        "  \"\"\"\n",
        "  full_dataset = dictionary from classes to image data\n",
        "  desired_classes = list of desired classes\n",
        "  pics_per_class = integer number of pictures for each class\n",
        "  S\"\"\"\n",
        "  # One hot encoding setup\n",
        "  classes = [class_name for class_name in full_dataset]\n",
        "  classes.sort()\n",
        "  one_hot_encoding = get_one_hot_encoding(classes)\n",
        "  \n",
        "  # Initialize return values\n",
        "  X = None\n",
        "  Y = None\n",
        "  \n",
        "  num_classes = len(desired_classes)\n",
        "  \n",
        "  for class_name in desired_classes:\n",
        "    \n",
        "    indices = get_distinct_random_ints(pics_per_class, 0, len(full_dataset[class_name]) - 1)\n",
        "\n",
        "    # Add images from this class\n",
        "    for index in indices:\n",
        "      \n",
        "      im = full_dataset[class_name][index]\n",
        "      # Add to training set\n",
        "      # Initialize array\n",
        "      if X is None:\n",
        "        X = np.array([im])\n",
        "        label = one_hot_encode(class_name, num_classes, one_hot_encoding)\n",
        "        Y = np.array([label])\n",
        "      # Append to array\n",
        "      else:\n",
        "        X = np.append(X, [im], axis=0)\n",
        "        label = one_hot_encode(class_name, num_classes, one_hot_encoding)\n",
        "        Y = np.append(Y, [label], axis=0)\n",
        "\n",
        "  Y = Y[:, :, 0].T\n",
        "  return X, Y\n",
        "           \n",
        "def load_train_and_test_dataset(path_to_imgs, desired_classes=None, pics_per_class=50):\n",
        "  # Handle default case\n",
        "  if desired_classes is None:\n",
        "    desired_classes = os.listdir(path_to_imgs)\n",
        "  \n",
        "  # Load full dataset\n",
        "  full_dataset = load_full_dataset(path_to_imgs)\n",
        "  \n",
        "  # Get training and testing data from full_dataset\n",
        "  X_train, Y_train = get_dataset(full_dataset, desired_classes=desired_classes, pics_per_class=pics_per_class)\n",
        "  X_test, Y_test = get_dataset(full_dataset, desired_classes=desired_classes, pics_per_class=pics_per_class // 2)  # Note may have some matching with training data\n",
        "  return X_train, Y_train, X_test, Y_test"
      ],
      "execution_count": 0,
      "outputs": []
    },
    {
      "metadata": {
        "id": "OuCHLqMZahyN",
        "colab_type": "code",
        "colab": {}
      },
      "cell_type": "code",
      "source": [
        "download_files()"
      ],
      "execution_count": 0,
      "outputs": []
    },
    {
      "metadata": {
        "id": "YwkkOiju7GwA",
        "colab_type": "code",
        "colab": {}
      },
      "cell_type": "code",
      "source": [
        "path_to_imgs = '/content/tray-data/data_LoRes/single'\n",
        "X_train, Y_train, X_test, Y_test = load_train_and_test_dataset(path_to_imgs)"
      ],
      "execution_count": 0,
      "outputs": []
    },
    {
      "metadata": {
        "id": "HtrwiimZ5-jb",
        "colab_type": "code",
        "colab": {
          "base_uri": "https://localhost:8080/",
          "height": 85
        },
        "outputId": "ae9c513d-5418-4dcd-e0f9-3ae394dafd7f"
      },
      "cell_type": "code",
      "source": [
        "print(X_train.shape)\n",
        "print(Y_train.shape)\n",
        "print(X_test.shape)\n",
        "print(Y_test.shape)"
      ],
      "execution_count": 8,
      "outputs": [
        {
          "output_type": "stream",
          "text": [
            "(1150, 64, 64, 3)\n",
            "(23, 1150)\n",
            "(575, 64, 64, 3)\n",
            "(23, 575)\n"
          ],
          "name": "stdout"
        }
      ]
    },
    {
      "metadata": {
        "id": "_0uW0MkeBwsj",
        "colab_type": "code",
        "colab": {
          "base_uri": "https://localhost:8080/",
          "height": 285
        },
        "outputId": "e27526b3-2930-42b5-bced-181f4cc085e5"
      },
      "cell_type": "code",
      "source": [
        "index = 100\n",
        "plt.imshow(X_train[index])\n",
        "print(Y_train[:, index])"
      ],
      "execution_count": 9,
      "outputs": [
        {
          "output_type": "stream",
          "text": [
            "[0. 0. 0. 1. 0. 0. 0. 0. 0. 0. 0. 0. 0. 0. 0. 0. 0. 0. 0. 0. 0. 0. 0.]\n"
          ],
          "name": "stdout"
        },
        {
          "output_type": "display_data",
          "data": {
            "image/png": "[encoded data removed]",
            "text/plain": [
              "<Figure size 432x288 with 1 Axes>"
            ]
          },
          "metadata": {
            "tags": []
          }
        }
      ]
    },
    {
      "metadata": {
        "id": "l0oX16yT_pD9",
        "colab_type": "code",
        "colab": {
          "base_uri": "https://localhost:8080/",
          "height": 285
        },
        "outputId": "d93ca5f1-4ee8-4d6f-f9b4-88e01dc40f9e"
      },
      "cell_type": "code",
      "source": [
        "index = 190\n",
        "plt.imshow(X_test[index])\n",
        "print(Y_test[:, index])"
      ],
      "execution_count": 10,
      "outputs": [
        {
          "output_type": "stream",
          "text": [
            "[0. 0. 0. 0. 0. 0. 0. 0. 0. 1. 0. 0. 0. 0. 0. 0. 0. 0. 0. 0. 0. 0. 0.]\n"
          ],
          "name": "stdout"
        },
        {
          "output_type": "display_data",
          "data": {
            "image/png": "[encoded data removed]",
            "text/plain": [
              "<Figure size 432x288 with 1 Axes>"
            ]
          },
          "metadata": {
            "tags": []
          }
        }
      ]
    },
    {
      "metadata": {
        "id": "oSZL3DR_MGgg",
        "colab_type": "code",
        "colab": {}
      },
      "cell_type": "code",
      "source": [
        "# Reshape the training and test examples \n",
        "X_train_flatten = X_train.reshape(X_train.shape[0], -1).T   # The \"-1\" makes reshape flatten the remaining dimensions\n",
        "X_test_flatten = X_test.reshape(X_test.shape[0], -1).T\n",
        "\n",
        "# Standardize data to have feature values between 0 and 1.\n",
        "train_x = X_train_flatten/255.\n",
        "test_x = X_test_flatten/255.\n",
        "\n",
        "train_y = Y_train\n",
        "test_y = Y_test"
      ],
      "execution_count": 0,
      "outputs": []
    },
    {
      "metadata": {
        "id": "6VtLTHcC2R_U",
        "colab_type": "code",
        "outputId": "2cb52dd1-0db9-44ed-fab8-8ae4ddc5dc0c",
        "colab": {
          "base_uri": "https://localhost:8080/",
          "height": 85
        }
      },
      "cell_type": "code",
      "source": [
        "print (\"train_x's shape: \" + str(train_x.shape))\n",
        "print (\"test_x's shape: \" + str(test_x.shape))\n",
        "print (\"train_y's shape: \" + str(train_y.shape))\n",
        "print (\"test_y's shape: \" + str(test_y.shape))"
      ],
      "execution_count": 12,
      "outputs": [
        {
          "output_type": "stream",
          "text": [
            "train_x's shape: (12288, 1150)\n",
            "test_x's shape: (12288, 575)\n",
            "train_y's shape: (23, 1150)\n",
            "test_y's shape: (23, 575)\n"
          ],
          "name": "stdout"
        }
      ]
    },
    {
      "metadata": {
        "id": "30Hvr9uFyemV",
        "colab_type": "code",
        "colab": {}
      },
      "cell_type": "code",
      "source": [
        "# GRADED FUNCTION: create_placeholders\n",
        "\n",
        "def create_placeholders(n_x, n_y):\n",
        "    \"\"\"\n",
        "    Creates the placeholders for the tensorflow session.\n",
        "    \n",
        "    Arguments:\n",
        "    n_x -- scalar, size of an image vector (num_px * num_px = 64 * 64 * 3 = 12288)\n",
        "    n_y -- scalar, number of classes (from 0 to 5, so -> 6)\n",
        "    \n",
        "    Returns:\n",
        "    X -- placeholder for the data input, of shape [n_x, None] and dtype \"float\"\n",
        "    Y -- placeholder for the input labels, of shape [n_y, None] and dtype \"float\"\n",
        "    \n",
        "    Tips:\n",
        "    - You will use None because it let's us be flexible on the number of examples you will for the placeholders.\n",
        "      In fact, the number of examples during test/train is different.\n",
        "    \"\"\"\n",
        "\n",
        "    ### START CODE HERE ### (approx. 2 lines)\n",
        "    X = tf.placeholder(dtype=tf.float32, shape=[n_x, None])\n",
        "    Y = tf.placeholder(dtype=tf.float32, shape=[n_y, None])\n",
        "    ### END CODE HERE ###\n",
        "    \n",
        "    return X, Y"
      ],
      "execution_count": 0,
      "outputs": []
    },
    {
      "metadata": {
        "id": "Yt0bNFbtyh31",
        "colab_type": "code",
        "colab": {}
      },
      "cell_type": "code",
      "source": [
        "# GRADED FUNCTION: initialize_parameters\n",
        "\n",
        "def initialize_parameters(n_px, n_classes):\n",
        "    \"\"\"\n",
        "    Initializes parameters to build a neural network with tensorflow. The shapes are:\n",
        "                        W1 : [20, n_px]\n",
        "                        b1 : [20, 1]\n",
        "                        W2 : [12, 20]\n",
        "                        b2 : [12, 1]\n",
        "                        W3 : [n_classes, 12]\n",
        "                        b3 : [n_classes, 1]\n",
        "    \n",
        "    Returns:\n",
        "    parameters -- a dictionary of tensors containing W1, b1, W2, b2, W3, b3\n",
        "    \"\"\"\n",
        "    \n",
        "    tf.set_random_seed(1)                   # so that your \"random\" numbers match ours\n",
        "        \n",
        "    ### START CODE HERE ### (approx. 6 lines of code)\n",
        "    W1 = tf.get_variable(\"W1\", [20, n_px], initializer=tf.contrib.layers.xavier_initializer(seed=1))\n",
        "    b1 = tf.get_variable(\"b1\", [20, 1], initializer=tf.zeros_initializer())\n",
        "    W2 = tf.get_variable(\"W2\", [12, 20], initializer=tf.contrib.layers.xavier_initializer(seed=1))\n",
        "    b2 = tf.get_variable(\"b2\", [12, 1], initializer=tf.zeros_initializer())\n",
        "    W3 = tf.get_variable(\"W3\", [n_classes, 12], initializer=tf.contrib.layers.xavier_initializer(seed=1))\n",
        "    b3 = tf.get_variable(\"b3\", [n_classes, 1], initializer=tf.zeros_initializer())\n",
        "    ### END CODE HERE ###\n",
        "\n",
        "    parameters = {\"W1\": W1,\n",
        "                  \"b1\": b1,\n",
        "                  \"W2\": W2,\n",
        "                  \"b2\": b2,\n",
        "                  \"W3\": W3,\n",
        "                  \"b3\": b3}\n",
        "    \n",
        "    return parameters"
      ],
      "execution_count": 0,
      "outputs": []
    },
    {
      "metadata": {
        "id": "LdEKBoQkyujm",
        "colab_type": "code",
        "colab": {}
      },
      "cell_type": "code",
      "source": [
        "# GRADED FUNCTION: forward_propagation\n",
        "\n",
        "def forward_propagation(X, parameters):\n",
        "    \"\"\"\n",
        "    Implements the forward propagation for the model: LINEAR -> RELU -> LINEAR -> RELU -> LINEAR -> SOFTMAX\n",
        "    \n",
        "    Arguments:\n",
        "    X -- input dataset placeholder, of shape (input size, number of examples)\n",
        "    parameters -- python dictionary containing your parameters \"W1\", \"b1\", \"W2\", \"b2\", \"W3\", \"b3\"\n",
        "                  the shapes are given in initialize_parameters\n",
        "\n",
        "    Returns:\n",
        "    Z3 -- the output of the last LINEAR unit\n",
        "    \"\"\"\n",
        "    \n",
        "    # Retrieve the parameters from the dictionary \"parameters\" \n",
        "    W1 = parameters['W1']\n",
        "    b1 = parameters['b1']\n",
        "    W2 = parameters['W2']\n",
        "    b2 = parameters['b2']\n",
        "    W3 = parameters['W3']\n",
        "    b3 = parameters['b3']\n",
        "    \n",
        "    ### START CODE HERE ### (approx. 5 lines)              # Numpy Equivalents:\n",
        "    Z1 = tf.add(tf.matmul(W1, X), b1)                                              # Z1 = np.dot(W1, X) + b1\n",
        "    A1 = tf.nn.relu(Z1)                                              # A1 = relu(Z1)\n",
        "    Z2 = tf.add(tf.matmul(W2, A1), b2)                                              # Z2 = np.dot(W2, a1) + b2\n",
        "    A2 = tf.nn.relu(Z2)                                              # A2 = relu(Z2)\n",
        "    Z3 = tf.add(tf.matmul(W3, A2), b3)\n",
        "    ### END CODE HERE ###\n",
        "    \n",
        "    return Z3"
      ],
      "execution_count": 0,
      "outputs": []
    },
    {
      "metadata": {
        "id": "W-GaKK1KyyC0",
        "colab_type": "code",
        "colab": {}
      },
      "cell_type": "code",
      "source": [
        "# GRADED FUNCTION: compute_cost \n",
        "\n",
        "def compute_cost(Z5, Y):\n",
        "    \"\"\"\n",
        "    Computes the cost\n",
        "    \n",
        "    Arguments:\n",
        "    Z3 -- output of forward propagation (output of the last LINEAR unit), of shape (6, number of examples)\n",
        "    Y -- \"true\" labels vector placeholder, same shape as Z3\n",
        "    \n",
        "    Returns:\n",
        "    cost - Tensor of the cost function\n",
        "    \"\"\"\n",
        "    \n",
        "    # to fit the tensorflow requirement for tf.nn.softmax_cross_entropy_with_logits(...,...)\n",
        "    logits = tf.transpose(Z5)\n",
        "    labels = tf.transpose(Y)\n",
        "    \n",
        "    ### START CODE HERE ### (1 line of code)\n",
        "    cost = tf.reduce_mean(tf.nn.softmax_cross_entropy_with_logits(logits=logits, labels=labels))\n",
        "    ### END CODE HERE ###\n",
        "    \n",
        "    return cost"
      ],
      "execution_count": 0,
      "outputs": []
    },
    {
      "metadata": {
        "id": "OEcjbgqKziIW",
        "colab_type": "code",
        "colab": {}
      },
      "cell_type": "code",
      "source": [
        "def random_mini_batches(X_train, Y_train, minibatch_size, seed):\n",
        "  \"\"\"\n",
        "  Return a minibatch of size minibatch_size\n",
        "  Gets random training data indices from X_train and Y_train\n",
        "  \"\"\"\n",
        "  random.seed(seed)\n",
        "  retVal = []\n",
        "  (n_x, m) = X_train.shape                          # (n_x: input size, m : number of examples in the train set)\n",
        "  (n_y, m) = Y_train.shape \n",
        "\n",
        "  num_minibatches = m // minibatch_size - 2\n",
        "  visited = []\n",
        "  \n",
        "  for minibatch in range(0, num_minibatches):\n",
        "    # Initialize arrays\n",
        "    x = np.zeros((n_x, minibatch_size))\n",
        "    y = np.zeros((n_y, minibatch_size))\n",
        "    for i in range(0, minibatch_size):\n",
        "      # Find unvisited index\n",
        "      index = -1\n",
        "      while index < 0:\n",
        "        index = random.randint(0, X_train.shape[1] - 1)\n",
        "        if index in visited:\n",
        "          index = -1\n",
        "      visited.append(index)\n",
        "      \n",
        "      # Add to array\n",
        "      x[:, i] = X_train[:, index]\n",
        "      y[:, i] = Y_train[:, index]\n",
        "    retVal.append((x, y))\n",
        "      \n",
        "  return retVal"
      ],
      "execution_count": 0,
      "outputs": []
    },
    {
      "metadata": {
        "id": "wltkPbwBy0o0",
        "colab_type": "code",
        "colab": {}
      },
      "cell_type": "code",
      "source": [
        "def model(X_train, Y_train, X_test, Y_test, learning_rate = 0.00001,\n",
        "          num_epochs = 1500, minibatch_size = 32, print_cost = True):\n",
        "    \"\"\"\n",
        "    Implements a three-layer tensorflow neural network: LINEAR->RELU->LINEAR->RELU->LINEAR->SOFTMAX.\n",
        "    \n",
        "    Arguments:\n",
        "    X_train -- training set, of shape (input size = 12288, number of training examples = 1080)\n",
        "    Y_train -- test set, of shape (output size = 6, number of training examples = 1080)\n",
        "    X_test -- training set, of shape (input size = 12288, number of training examples = 120)\n",
        "    Y_test -- test set, of shape (output size = 6, number of test examples = 120)\n",
        "    learning_rate -- learning rate of the optimization\n",
        "    num_epochs -- number of epochs of the optimization loop\n",
        "    minibatch_size -- size of a minibatch\n",
        "    print_cost -- True to print the cost every 100 epochs\n",
        "    \n",
        "    Returns:\n",
        "    parameters -- parameters learnt by the model. They can then be used to predict.\n",
        "    \"\"\"\n",
        "    \n",
        "    ops.reset_default_graph()                         # to be able to rerun the model without overwriting tf variables\n",
        "    tf.set_random_seed(1)                             # to keep consistent results\n",
        "    seed = 3                                          # to keep consistent results\n",
        "    (n_x, m) = X_train.shape                          # (n_x: input size, m : number of examples in the train set)\n",
        "    n_y = Y_train.shape[0]                            # n_y : output size\n",
        "    costs = []                                        # To keep track of the cost\n",
        "\n",
        "    # Create Placeholders of shape (n_x, n_y)\n",
        "    ### START CODE HERE ### (1 line)\n",
        "    X, Y = create_placeholders(n_x, n_y)\n",
        "    ### END CODE HERE ###\n",
        "\n",
        "    # Initialize parameters\n",
        "    ### START CODE HERE ### (1 line)\n",
        "    parameters = initialize_parameters(n_x, n_y)\n",
        "    ### END CODE HERE ###\n",
        "    \n",
        "    # Forward propagation: Build the forward propagation in the tensorflow graph\n",
        "    ### START CODE HERE ### (1 line)\n",
        "    Z3 = forward_propagation(X, parameters)\n",
        "    ### END CODE HERE ###\n",
        "    \n",
        "    # Cost function: Add cost function to tensorflow graph\n",
        "    ### START CODE HERE ### (1 line)\n",
        "    cost = compute_cost(Z3, Y)\n",
        "    ### END CODE HERE ###\n",
        "    \n",
        "    # Backpropagation: Define the tensorflow optimizer. Use an AdamOptimizer.\n",
        "    ### START CODE HERE ### (1 line)\n",
        "    optimizer = tf.train.AdamOptimizer(learning_rate=learning_rate).minimize(cost)\n",
        "    ### END CODE HERE ###\n",
        "    \n",
        "    # Initialize all the variables\n",
        "    init = tf.global_variables_initializer()\n",
        "\n",
        "    # Start the session to compute the tensorflow graph\n",
        "    with tf.Session() as sess:\n",
        "        \n",
        "        # Run the initialization\n",
        "        sess.run(init)\n",
        "        \n",
        "        # Do the training loop\n",
        "        for epoch in range(num_epochs):\n",
        "\n",
        "            epoch_cost = 0.                       # Defines a cost related to an epoch\n",
        "            num_minibatches = int(m / minibatch_size) # number of minibatches of size minibatch_size in the train set\n",
        "            seed = seed + 1\n",
        "            minibatches = random_mini_batches(X_train, Y_train, minibatch_size, seed)\n",
        "\n",
        "            for minibatch in minibatches:\n",
        "\n",
        "                # Select a minibatch\n",
        "                (minibatch_X, minibatch_Y) = minibatch\n",
        "                \n",
        "                # IMPORTANT: The line that runs the graph on a minibatch.\n",
        "                # Run the session to execute the \"optimizer\" and the \"cost\", the feedict should contain a minibatch for (X,Y).\n",
        "                ### START CODE HERE ### (1 line)\n",
        "                _ , minibatch_cost = sess.run([optimizer, cost], feed_dict={X: minibatch_X, Y: minibatch_Y})\n",
        "                ### END CODE HERE ###\n",
        "                \n",
        "                epoch_cost += minibatch_cost / num_minibatches\n",
        "\n",
        "            # Print the cost every epoch\n",
        "            if print_cost == True and epoch % 100 == 0:\n",
        "                print (\"Cost after epoch %i: %f\" % (epoch, epoch_cost))\n",
        "            if print_cost == True and epoch % 5 == 0:\n",
        "                costs.append(epoch_cost)\n",
        "                \n",
        "        # plot the cost\n",
        "        plt.plot(np.squeeze(costs))\n",
        "        plt.ylabel('cost')\n",
        "        plt.xlabel('iterations (per tens)')\n",
        "        plt.title(\"Learning rate =\" + str(learning_rate))\n",
        "        plt.show()\n",
        "\n",
        "        # lets save the parameters in a variable\n",
        "        parameters = sess.run(parameters)\n",
        "        print (\"Parameters have been trained!\")\n",
        "\n",
        "        # Calculate the correct predictions\n",
        "        correct_prediction = tf.equal(tf.argmax(Z3), tf.argmax(Y))\n",
        "\n",
        "        # Calculate accuracy on the test set\n",
        "        accuracy = tf.reduce_mean(tf.cast(correct_prediction, \"float\"))\n",
        "\n",
        "        print (\"Train Accuracy:\", accuracy.eval({X: X_train, Y: Y_train}))\n",
        "        print (\"Test Accuracy:\", accuracy.eval({X: X_test, Y: Y_test}))\n",
        "        saver = tf.train.Saver()\n",
        "        saver.save(sess, './' + 'model.checkpoint')\n",
        "        print (\"Model saved\")\n",
        "        return parameters"
      ],
      "execution_count": 0,
      "outputs": []
    },
    {
      "metadata": {
        "id": "5nYOkpmoy0vc",
        "colab_type": "code",
        "outputId": "bea0b124-66f0-4593-a558-58982f9fd0fa",
        "colab": {
          "base_uri": "https://localhost:8080/",
          "height": 1198
        }
      },
      "cell_type": "code",
      "source": [
        "parameters = model(train_x, train_y, test_x, test_y, num_epochs = 3000)"
      ],
      "execution_count": 19,
      "outputs": [
        {
          "output_type": "stream",
          "text": [
            "\n",
            "WARNING: The TensorFlow contrib module will not be included in TensorFlow 2.0.\n",
            "For more information, please see:\n",
            "  * https://github.com/tensorflow/community/blob/master/rfcs/20180907-contrib-sunset.md\n",
            "  * https://github.com/tensorflow/addons\n",
            "If you depend on functionality not listed there, please file an issue.\n",
            "\n",
            "WARNING:tensorflow:From /usr/local/lib/python3.6/dist-packages/tensorflow/python/framework/op_def_library.py:263: colocate_with (from tensorflow.python.framework.ops) is deprecated and will be removed in a future version.\n",
            "Instructions for updating:\n",
            "Colocations handled automatically by placer.\n",
            "WARNING:tensorflow:From <ipython-input-16-ac0dac933f1f>:19: softmax_cross_entropy_with_logits (from tensorflow.python.ops.nn_ops) is deprecated and will be removed in a future version.\n",
            "Instructions for updating:\n",
            "\n",
            "Future major versions of TensorFlow will allow gradients to flow\n",
            "into the labels input on backprop by default.\n",
            "\n",
            "See `tf.nn.softmax_cross_entropy_with_logits_v2`.\n",
            "\n",
            "Cost after epoch 0: 2.956586\n",
            "Cost after epoch 100: 2.386968\n",
            "Cost after epoch 200: 1.974625\n",
            "Cost after epoch 300: 1.576446\n",
            "Cost after epoch 400: 1.243965\n",
            "Cost after epoch 500: 0.933666\n",
            "Cost after epoch 600: 0.725693\n",
            "Cost after epoch 700: 0.571833\n",
            "Cost after epoch 800: 0.474865\n",
            "Cost after epoch 900: 0.411114\n",
            "Cost after epoch 1000: 0.339405\n",
            "Cost after epoch 1100: 0.306311\n",
            "Cost after epoch 1200: 0.262684\n",
            "Cost after epoch 1300: 0.232929\n",
            "Cost after epoch 1400: 0.202608\n",
            "Cost after epoch 1500: 0.180963\n",
            "Cost after epoch 1600: 0.165886\n",
            "Cost after epoch 1700: 0.149009\n",
            "Cost after epoch 1800: 0.128947\n",
            "Cost after epoch 1900: 0.113105\n",
            "Cost after epoch 2000: 0.102106\n",
            "Cost after epoch 2100: 0.095820\n",
            "Cost after epoch 2200: 0.087008\n",
            "Cost after epoch 2300: 0.076290\n",
            "Cost after epoch 2400: 0.070127\n",
            "Cost after epoch 2500: 0.061455\n",
            "Cost after epoch 2600: 0.057150\n",
            "Cost after epoch 2700: 0.051287\n",
            "Cost after epoch 2800: 0.045229\n",
            "Cost after epoch 2900: 0.039798\n"
          ],
          "name": "stdout"
        },
        {
          "output_type": "display_data",
          "data": {
            "image/png": "[encoded data removed]",
            "text/plain": [
              "<Figure size 432x288 with 1 Axes>"
            ]
          },
          "metadata": {
            "tags": []
          }
        },
        {
          "output_type": "stream",
          "text": [
            "Parameters have been trained!\n",
            "Train Accuracy: 0.9956522\n",
            "Test Accuracy: 0.89913046\n",
            "Model saved\n"
          ],
          "name": "stdout"
        }
      ]
    },
    {
      "metadata": {
        "id": "xS3THd42QvNL",
        "colab_type": "code",
        "colab": {}
      },
      "cell_type": "code",
      "source": [
        ""
      ],
      "execution_count": 0,
      "outputs": []
    }
  ]
}